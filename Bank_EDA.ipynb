{
  "cells": [
    {
      "cell_type": "markdown",
      "metadata": {
        "id": "view-in-github",
        "colab_type": "text"
      },
      "source": [
        "<a href=\"https://colab.research.google.com/github/Rezawsr/Analisis-Kampanye-Marketing-Bank/blob/main/Bank_EDA.ipynb\" target=\"_parent\"><img src=\"https://colab.research.google.com/assets/colab-badge.svg\" alt=\"Open In Colab\"/></a>"
      ]
    },
    {
      "cell_type": "markdown",
      "id": "3d852f9a-821b-4b30-9e4e-2d9517db1353",
      "metadata": {
        "id": "3d852f9a-821b-4b30-9e4e-2d9517db1353"
      },
      "source": [
        "# BANK DATA"
      ]
    },
    {
      "cell_type": "markdown",
      "id": "9368baac-686a-46dd-bcd5-f0db197851eb",
      "metadata": {
        "id": "9368baac-686a-46dd-bcd5-f0db197851eb"
      },
      "source": [
        "The data is related with direct marketing campaigns of a Portuguese banking institution.<br>\n",
        "The marketing campaigns were based on phone calls. Often, more than one contact to the same client was required, in order to access if the product (bank term deposit) would be (or not) subscribed. \n",
        "\n",
        "Pada kesempatan kali ini saya akan mencoba untuk melakukan eksplorasi data dari data Bank Portugis ini.<br>\n",
        "Tujuan eksplorasi data kali ini ialah untuk mencari tau pola dari client yg tidak berlangganan deposito berjangka.\n",
        "\n",
        "Untuk eksplorasi data kali ini akan saya lakukan dalam beberapa tahapan dan akan saya lakukan berdasarkan kelompok data. <br>\n",
        "Eksplorasi awal ke target features - subscribed, lalu eksplorasi ke kelompok numerical dan terakhir ke kelompok categorical."
      ]
    },
    {
      "cell_type": "markdown",
      "id": "7a8e39cf-28ce-4d47-b7e1-c42580828e30",
      "metadata": {
        "id": "7a8e39cf-28ce-4d47-b7e1-c42580828e30"
      },
      "source": [
        "## FEATURE DESCRIPTION"
      ]
    },
    {
      "cell_type": "markdown",
      "id": "b9e9d9e5-683d-4ba4-9dfc-3984ac291e49",
      "metadata": {
        "id": "b9e9d9e5-683d-4ba4-9dfc-3984ac291e49"
      },
      "source": [
        "> Input variables:\n",
        "\n",
        "> Bank client data:\n",
        ">- 1 - age (numeric)\n",
        ">- 2 - job : type of job (categorical: \"admin.\",\"unknown\",\"unemployed\",\"management\",\"housemaid\",\"entrepreneur\",\"student\",\n",
        "                                       \"blue-collar\",\"self-employed\",\"retired\",\"technician\",\"services\") \n",
        ">- 3 - marital : marital status (categorical: \"married\",\"divorced\",\"single\"; note: \"divorced\" means divorced or widowed)\n",
        ">- 4 - education (categorical: \"unknown\",\"secondary\",\"primary\",\"tertiary\")\n",
        ">- 5 - default: has credit in default? (binary: \"yes\",\"no\")\n",
        ">- 6 - balance: average yearly balance, in euros (numeric) \n",
        ">- 7 - housing: has housing loan? (binary: \"yes\",\"no\")\n",
        ">- 8 - loan: has personal loan? (binary: \"yes\",\"no\")\n",
        "\n",
        "> Related with the last contact of the current campaign:\n",
        ">- 9 - contact: contact communication type (categorical: \"unknown\",\"telephone\",\"cellular\") \n",
        ">- 10 - day: last contact day of the month (numeric)\n",
        ">- 11 - month: last contact month of year (categorical: \"jan\", \"feb\", \"mar\", ..., \"nov\", \"dec\")\n",
        ">- 12 - duration: last contact duration, in seconds (numeric)\n",
        "\n",
        "> Other attributes:\n",
        ">- 13 - campaign: number of contacts performed during this campaign and for this client (numeric, includes last contact)\n",
        ">- 14 - pdays: number of days that passed by after the client was last contacted from a previous campaign (numeric, -1 means client was not previously contacted)\n",
        ">- 15 - previous: number of contacts performed before this campaign and for this client (numeric)\n",
        ">- 16 - poutcome: outcome of the previous marketing campaign (categorical: \"unknown\",\"other\",\"failure\",\"success\")\n",
        "\n",
        "> Output variable (desired target):\n",
        ">- 17 - y - has the client subscribed a term deposit? (binary: \"yes\",\"no\")"
      ]
    },
    {
      "cell_type": "code",
      "execution_count": null,
      "id": "88280705-fb30-40c1-969c-ca907817d490",
      "metadata": {
        "id": "88280705-fb30-40c1-969c-ca907817d490",
        "outputId": "ee7df291-ea23-4d20-d4ed-802c2edf96fc"
      },
      "outputs": [
        {
          "name": "stdout",
          "output_type": "stream",
          "text": [
            "Requirement already satisfied: nbconvert in /Users/user/opt/anaconda3/lib/python3.9/site-packages (6.4.4)\n",
            "Requirement already satisfied: testpath in /Users/user/opt/anaconda3/lib/python3.9/site-packages (from nbconvert) (0.5.0)\n",
            "Requirement already satisfied: traitlets>=5.0 in /Users/user/opt/anaconda3/lib/python3.9/site-packages (from nbconvert) (5.1.1)\n",
            "Requirement already satisfied: mistune<2,>=0.8.1 in /Users/user/opt/anaconda3/lib/python3.9/site-packages (from nbconvert) (0.8.4)\n",
            "Requirement already satisfied: pygments>=2.4.1 in /Users/user/opt/anaconda3/lib/python3.9/site-packages (from nbconvert) (2.11.2)\n",
            "Requirement already satisfied: bleach in /Users/user/opt/anaconda3/lib/python3.9/site-packages (from nbconvert) (4.1.0)\n",
            "Requirement already satisfied: pandocfilters>=1.4.1 in /Users/user/opt/anaconda3/lib/python3.9/site-packages (from nbconvert) (1.5.0)\n",
            "Requirement already satisfied: beautifulsoup4 in /Users/user/opt/anaconda3/lib/python3.9/site-packages (from nbconvert) (4.11.1)\n",
            "Requirement already satisfied: jupyter-core in /Users/user/opt/anaconda3/lib/python3.9/site-packages (from nbconvert) (4.9.2)\n",
            "Requirement already satisfied: nbclient<0.6.0,>=0.5.0 in /Users/user/opt/anaconda3/lib/python3.9/site-packages (from nbconvert) (0.5.13)\n",
            "Requirement already satisfied: jinja2>=2.4 in /Users/user/opt/anaconda3/lib/python3.9/site-packages (from nbconvert) (2.11.3)\n",
            "Requirement already satisfied: nbformat>=4.4 in /Users/user/opt/anaconda3/lib/python3.9/site-packages (from nbconvert) (5.3.0)\n",
            "Requirement already satisfied: defusedxml in /Users/user/opt/anaconda3/lib/python3.9/site-packages (from nbconvert) (0.7.1)\n",
            "Requirement already satisfied: entrypoints>=0.2.2 in /Users/user/opt/anaconda3/lib/python3.9/site-packages (from nbconvert) (0.4)\n",
            "Requirement already satisfied: jupyterlab-pygments in /Users/user/opt/anaconda3/lib/python3.9/site-packages (from nbconvert) (0.1.2)\n",
            "Requirement already satisfied: MarkupSafe>=0.23 in /Users/user/opt/anaconda3/lib/python3.9/site-packages (from jinja2>=2.4->nbconvert) (2.0.1)\n",
            "Requirement already satisfied: jupyter-client>=6.1.5 in /Users/user/opt/anaconda3/lib/python3.9/site-packages (from nbclient<0.6.0,>=0.5.0->nbconvert) (6.1.12)\n",
            "Requirement already satisfied: nest-asyncio in /Users/user/opt/anaconda3/lib/python3.9/site-packages (from nbclient<0.6.0,>=0.5.0->nbconvert) (1.5.5)\n",
            "Requirement already satisfied: python-dateutil>=2.1 in /Users/user/opt/anaconda3/lib/python3.9/site-packages (from jupyter-client>=6.1.5->nbclient<0.6.0,>=0.5.0->nbconvert) (2.8.2)\n",
            "Requirement already satisfied: tornado>=4.1 in /Users/user/opt/anaconda3/lib/python3.9/site-packages (from jupyter-client>=6.1.5->nbclient<0.6.0,>=0.5.0->nbconvert) (6.1)\n",
            "Requirement already satisfied: pyzmq>=13 in /Users/user/opt/anaconda3/lib/python3.9/site-packages (from jupyter-client>=6.1.5->nbclient<0.6.0,>=0.5.0->nbconvert) (22.3.0)\n",
            "Requirement already satisfied: jsonschema>=2.6 in /Users/user/opt/anaconda3/lib/python3.9/site-packages (from nbformat>=4.4->nbconvert) (4.4.0)\n",
            "Requirement already satisfied: fastjsonschema in /Users/user/opt/anaconda3/lib/python3.9/site-packages (from nbformat>=4.4->nbconvert) (2.15.1)\n",
            "Requirement already satisfied: attrs>=17.4.0 in /Users/user/opt/anaconda3/lib/python3.9/site-packages (from jsonschema>=2.6->nbformat>=4.4->nbconvert) (21.4.0)\n",
            "Requirement already satisfied: pyrsistent!=0.17.0,!=0.17.1,!=0.17.2,>=0.14.0 in /Users/user/opt/anaconda3/lib/python3.9/site-packages (from jsonschema>=2.6->nbformat>=4.4->nbconvert) (0.18.0)\n",
            "Requirement already satisfied: six>=1.5 in /Users/user/opt/anaconda3/lib/python3.9/site-packages (from python-dateutil>=2.1->jupyter-client>=6.1.5->nbclient<0.6.0,>=0.5.0->nbconvert) (1.16.0)\n",
            "Requirement already satisfied: soupsieve>1.2 in /Users/user/opt/anaconda3/lib/python3.9/site-packages (from beautifulsoup4->nbconvert) (2.3.1)\n",
            "Requirement already satisfied: webencodings in /Users/user/opt/anaconda3/lib/python3.9/site-packages (from bleach->nbconvert) (0.5.1)\n",
            "Requirement already satisfied: packaging in /Users/user/opt/anaconda3/lib/python3.9/site-packages (from bleach->nbconvert) (21.3)\n",
            "Requirement already satisfied: pyparsing!=3.0.5,>=2.0.2 in /Users/user/opt/anaconda3/lib/python3.9/site-packages (from packaging->bleach->nbconvert) (3.0.4)\n",
            "Note: you may need to restart the kernel to use updated packages.\n"
          ]
        }
      ],
      "source": [
        "pip install nbconvert"
      ]
    },
    {
      "cell_type": "markdown",
      "id": "7eb46471-0a56-4039-990c-edcb8de2a679",
      "metadata": {
        "id": "7eb46471-0a56-4039-990c-edcb8de2a679"
      },
      "source": [
        "## IMPORT LIBRARIES"
      ]
    },
    {
      "cell_type": "code",
      "execution_count": null,
      "id": "56250f81-d2f4-4049-8150-8b8ffa37af87",
      "metadata": {
        "id": "56250f81-d2f4-4049-8150-8b8ffa37af87"
      },
      "outputs": [],
      "source": [
        "import pandas as pd\n",
        "import numpy as np\n",
        "import seaborn as sns\n",
        "import matplotlib.pyplot as plt\n",
        "\n",
        "import warnings\n",
        "warnings.filterwarnings(\"ignore\")\n",
        "\n",
        "import scipy.stats as ss"
      ]
    },
    {
      "cell_type": "markdown",
      "id": "bd708733-43ee-46e9-92dc-c41b1c67c989",
      "metadata": {
        "id": "bd708733-43ee-46e9-92dc-c41b1c67c989"
      },
      "source": [
        "## OVERVIEW"
      ]
    },
    {
      "cell_type": "markdown",
      "id": "fc4ac348-7e78-42a7-a741-acff432ddd30",
      "metadata": {
        "id": "fc4ac348-7e78-42a7-a741-acff432ddd30"
      },
      "source": [
        "> 1. Load semua datanya"
      ]
    },
    {
      "cell_type": "code",
      "execution_count": null,
      "id": "dd31885a-ef79-4b50-ac25-5453ca22941b",
      "metadata": {
        "id": "dd31885a-ef79-4b50-ac25-5453ca22941b"
      },
      "outputs": [],
      "source": [
        "df = pd.read_csv(\"Data/bank-full.csv\", sep = \";\")"
      ]
    },
    {
      "cell_type": "code",
      "execution_count": null,
      "id": "6f433a58-41af-4843-bf85-a151f035af34",
      "metadata": {
        "id": "6f433a58-41af-4843-bf85-a151f035af34",
        "outputId": "6031f9a8-5020-4eae-e2b2-a188b46d08f0"
      },
      "outputs": [
        {
          "data": {
            "text/html": [
              "<div>\n",
              "<style scoped>\n",
              "    .dataframe tbody tr th:only-of-type {\n",
              "        vertical-align: middle;\n",
              "    }\n",
              "\n",
              "    .dataframe tbody tr th {\n",
              "        vertical-align: top;\n",
              "    }\n",
              "\n",
              "    .dataframe thead th {\n",
              "        text-align: right;\n",
              "    }\n",
              "</style>\n",
              "<table border=\"1\" class=\"dataframe\">\n",
              "  <thead>\n",
              "    <tr style=\"text-align: right;\">\n",
              "      <th></th>\n",
              "      <th>age</th>\n",
              "      <th>job</th>\n",
              "      <th>marital</th>\n",
              "      <th>education</th>\n",
              "      <th>default</th>\n",
              "      <th>balance</th>\n",
              "      <th>housing</th>\n",
              "      <th>loan</th>\n",
              "      <th>contact</th>\n",
              "      <th>day</th>\n",
              "      <th>month</th>\n",
              "      <th>duration</th>\n",
              "      <th>campaign</th>\n",
              "      <th>pdays</th>\n",
              "      <th>previous</th>\n",
              "      <th>poutcome</th>\n",
              "      <th>y</th>\n",
              "    </tr>\n",
              "  </thead>\n",
              "  <tbody>\n",
              "    <tr>\n",
              "      <th>0</th>\n",
              "      <td>58</td>\n",
              "      <td>management</td>\n",
              "      <td>married</td>\n",
              "      <td>tertiary</td>\n",
              "      <td>no</td>\n",
              "      <td>2143</td>\n",
              "      <td>yes</td>\n",
              "      <td>no</td>\n",
              "      <td>unknown</td>\n",
              "      <td>5</td>\n",
              "      <td>may</td>\n",
              "      <td>261</td>\n",
              "      <td>1</td>\n",
              "      <td>-1</td>\n",
              "      <td>0</td>\n",
              "      <td>unknown</td>\n",
              "      <td>no</td>\n",
              "    </tr>\n",
              "    <tr>\n",
              "      <th>1</th>\n",
              "      <td>44</td>\n",
              "      <td>technician</td>\n",
              "      <td>single</td>\n",
              "      <td>secondary</td>\n",
              "      <td>no</td>\n",
              "      <td>29</td>\n",
              "      <td>yes</td>\n",
              "      <td>no</td>\n",
              "      <td>unknown</td>\n",
              "      <td>5</td>\n",
              "      <td>may</td>\n",
              "      <td>151</td>\n",
              "      <td>1</td>\n",
              "      <td>-1</td>\n",
              "      <td>0</td>\n",
              "      <td>unknown</td>\n",
              "      <td>no</td>\n",
              "    </tr>\n",
              "    <tr>\n",
              "      <th>2</th>\n",
              "      <td>33</td>\n",
              "      <td>entrepreneur</td>\n",
              "      <td>married</td>\n",
              "      <td>secondary</td>\n",
              "      <td>no</td>\n",
              "      <td>2</td>\n",
              "      <td>yes</td>\n",
              "      <td>yes</td>\n",
              "      <td>unknown</td>\n",
              "      <td>5</td>\n",
              "      <td>may</td>\n",
              "      <td>76</td>\n",
              "      <td>1</td>\n",
              "      <td>-1</td>\n",
              "      <td>0</td>\n",
              "      <td>unknown</td>\n",
              "      <td>no</td>\n",
              "    </tr>\n",
              "    <tr>\n",
              "      <th>3</th>\n",
              "      <td>47</td>\n",
              "      <td>blue-collar</td>\n",
              "      <td>married</td>\n",
              "      <td>unknown</td>\n",
              "      <td>no</td>\n",
              "      <td>1506</td>\n",
              "      <td>yes</td>\n",
              "      <td>no</td>\n",
              "      <td>unknown</td>\n",
              "      <td>5</td>\n",
              "      <td>may</td>\n",
              "      <td>92</td>\n",
              "      <td>1</td>\n",
              "      <td>-1</td>\n",
              "      <td>0</td>\n",
              "      <td>unknown</td>\n",
              "      <td>no</td>\n",
              "    </tr>\n",
              "    <tr>\n",
              "      <th>4</th>\n",
              "      <td>33</td>\n",
              "      <td>unknown</td>\n",
              "      <td>single</td>\n",
              "      <td>unknown</td>\n",
              "      <td>no</td>\n",
              "      <td>1</td>\n",
              "      <td>no</td>\n",
              "      <td>no</td>\n",
              "      <td>unknown</td>\n",
              "      <td>5</td>\n",
              "      <td>may</td>\n",
              "      <td>198</td>\n",
              "      <td>1</td>\n",
              "      <td>-1</td>\n",
              "      <td>0</td>\n",
              "      <td>unknown</td>\n",
              "      <td>no</td>\n",
              "    </tr>\n",
              "  </tbody>\n",
              "</table>\n",
              "</div>"
            ],
            "text/plain": [
              "   age           job  marital  education default  balance housing loan  \\\n",
              "0   58    management  married   tertiary      no     2143     yes   no   \n",
              "1   44    technician   single  secondary      no       29     yes   no   \n",
              "2   33  entrepreneur  married  secondary      no        2     yes  yes   \n",
              "3   47   blue-collar  married    unknown      no     1506     yes   no   \n",
              "4   33       unknown   single    unknown      no        1      no   no   \n",
              "\n",
              "   contact  day month  duration  campaign  pdays  previous poutcome   y  \n",
              "0  unknown    5   may       261         1     -1         0  unknown  no  \n",
              "1  unknown    5   may       151         1     -1         0  unknown  no  \n",
              "2  unknown    5   may        76         1     -1         0  unknown  no  \n",
              "3  unknown    5   may        92         1     -1         0  unknown  no  \n",
              "4  unknown    5   may       198         1     -1         0  unknown  no  "
            ]
          },
          "execution_count": 3,
          "metadata": {},
          "output_type": "execute_result"
        }
      ],
      "source": [
        "df.head()"
      ]
    },
    {
      "cell_type": "code",
      "execution_count": null,
      "id": "2c4bb81f-f80f-4a3a-9e6a-c5d254c02797",
      "metadata": {
        "id": "2c4bb81f-f80f-4a3a-9e6a-c5d254c02797",
        "outputId": "ef3cac11-2259-46b4-8c2e-6ff1e443dae2"
      },
      "outputs": [
        {
          "data": {
            "text/html": [
              "<div>\n",
              "<style scoped>\n",
              "    .dataframe tbody tr th:only-of-type {\n",
              "        vertical-align: middle;\n",
              "    }\n",
              "\n",
              "    .dataframe tbody tr th {\n",
              "        vertical-align: top;\n",
              "    }\n",
              "\n",
              "    .dataframe thead th {\n",
              "        text-align: right;\n",
              "    }\n",
              "</style>\n",
              "<table border=\"1\" class=\"dataframe\">\n",
              "  <thead>\n",
              "    <tr style=\"text-align: right;\">\n",
              "      <th></th>\n",
              "      <th>age</th>\n",
              "      <th>job</th>\n",
              "      <th>marital</th>\n",
              "      <th>education</th>\n",
              "      <th>default</th>\n",
              "      <th>balance</th>\n",
              "      <th>housing</th>\n",
              "      <th>loan</th>\n",
              "      <th>contact</th>\n",
              "      <th>day</th>\n",
              "      <th>month</th>\n",
              "      <th>duration</th>\n",
              "      <th>campaign</th>\n",
              "      <th>pdays</th>\n",
              "      <th>previous</th>\n",
              "      <th>poutcome</th>\n",
              "      <th>y</th>\n",
              "    </tr>\n",
              "  </thead>\n",
              "  <tbody>\n",
              "    <tr>\n",
              "      <th>45206</th>\n",
              "      <td>51</td>\n",
              "      <td>technician</td>\n",
              "      <td>married</td>\n",
              "      <td>tertiary</td>\n",
              "      <td>no</td>\n",
              "      <td>825</td>\n",
              "      <td>no</td>\n",
              "      <td>no</td>\n",
              "      <td>cellular</td>\n",
              "      <td>17</td>\n",
              "      <td>nov</td>\n",
              "      <td>977</td>\n",
              "      <td>3</td>\n",
              "      <td>-1</td>\n",
              "      <td>0</td>\n",
              "      <td>unknown</td>\n",
              "      <td>yes</td>\n",
              "    </tr>\n",
              "    <tr>\n",
              "      <th>45207</th>\n",
              "      <td>71</td>\n",
              "      <td>retired</td>\n",
              "      <td>divorced</td>\n",
              "      <td>primary</td>\n",
              "      <td>no</td>\n",
              "      <td>1729</td>\n",
              "      <td>no</td>\n",
              "      <td>no</td>\n",
              "      <td>cellular</td>\n",
              "      <td>17</td>\n",
              "      <td>nov</td>\n",
              "      <td>456</td>\n",
              "      <td>2</td>\n",
              "      <td>-1</td>\n",
              "      <td>0</td>\n",
              "      <td>unknown</td>\n",
              "      <td>yes</td>\n",
              "    </tr>\n",
              "    <tr>\n",
              "      <th>45208</th>\n",
              "      <td>72</td>\n",
              "      <td>retired</td>\n",
              "      <td>married</td>\n",
              "      <td>secondary</td>\n",
              "      <td>no</td>\n",
              "      <td>5715</td>\n",
              "      <td>no</td>\n",
              "      <td>no</td>\n",
              "      <td>cellular</td>\n",
              "      <td>17</td>\n",
              "      <td>nov</td>\n",
              "      <td>1127</td>\n",
              "      <td>5</td>\n",
              "      <td>184</td>\n",
              "      <td>3</td>\n",
              "      <td>success</td>\n",
              "      <td>yes</td>\n",
              "    </tr>\n",
              "    <tr>\n",
              "      <th>45209</th>\n",
              "      <td>57</td>\n",
              "      <td>blue-collar</td>\n",
              "      <td>married</td>\n",
              "      <td>secondary</td>\n",
              "      <td>no</td>\n",
              "      <td>668</td>\n",
              "      <td>no</td>\n",
              "      <td>no</td>\n",
              "      <td>telephone</td>\n",
              "      <td>17</td>\n",
              "      <td>nov</td>\n",
              "      <td>508</td>\n",
              "      <td>4</td>\n",
              "      <td>-1</td>\n",
              "      <td>0</td>\n",
              "      <td>unknown</td>\n",
              "      <td>no</td>\n",
              "    </tr>\n",
              "    <tr>\n",
              "      <th>45210</th>\n",
              "      <td>37</td>\n",
              "      <td>entrepreneur</td>\n",
              "      <td>married</td>\n",
              "      <td>secondary</td>\n",
              "      <td>no</td>\n",
              "      <td>2971</td>\n",
              "      <td>no</td>\n",
              "      <td>no</td>\n",
              "      <td>cellular</td>\n",
              "      <td>17</td>\n",
              "      <td>nov</td>\n",
              "      <td>361</td>\n",
              "      <td>2</td>\n",
              "      <td>188</td>\n",
              "      <td>11</td>\n",
              "      <td>other</td>\n",
              "      <td>no</td>\n",
              "    </tr>\n",
              "  </tbody>\n",
              "</table>\n",
              "</div>"
            ],
            "text/plain": [
              "       age           job   marital  education default  balance housing loan  \\\n",
              "45206   51    technician   married   tertiary      no      825      no   no   \n",
              "45207   71       retired  divorced    primary      no     1729      no   no   \n",
              "45208   72       retired   married  secondary      no     5715      no   no   \n",
              "45209   57   blue-collar   married  secondary      no      668      no   no   \n",
              "45210   37  entrepreneur   married  secondary      no     2971      no   no   \n",
              "\n",
              "         contact  day month  duration  campaign  pdays  previous poutcome    y  \n",
              "45206   cellular   17   nov       977         3     -1         0  unknown  yes  \n",
              "45207   cellular   17   nov       456         2     -1         0  unknown  yes  \n",
              "45208   cellular   17   nov      1127         5    184         3  success  yes  \n",
              "45209  telephone   17   nov       508         4     -1         0  unknown   no  \n",
              "45210   cellular   17   nov       361         2    188        11    other   no  "
            ]
          },
          "execution_count": 4,
          "metadata": {},
          "output_type": "execute_result"
        }
      ],
      "source": [
        "df.tail()"
      ]
    },
    {
      "cell_type": "code",
      "execution_count": null,
      "id": "4eea13a9-98c4-407d-9518-ae9413ce8b05",
      "metadata": {
        "id": "4eea13a9-98c4-407d-9518-ae9413ce8b05",
        "outputId": "3c7dd66e-a183-414b-e7fb-1f97ff5a1969"
      },
      "outputs": [
        {
          "name": "stdout",
          "output_type": "stream",
          "text": [
            "<class 'pandas.core.frame.DataFrame'>\n",
            "RangeIndex: 45211 entries, 0 to 45210\n",
            "Data columns (total 17 columns):\n",
            " #   Column     Non-Null Count  Dtype \n",
            "---  ------     --------------  ----- \n",
            " 0   age        45211 non-null  int64 \n",
            " 1   job        45211 non-null  object\n",
            " 2   marital    45211 non-null  object\n",
            " 3   education  45211 non-null  object\n",
            " 4   default    45211 non-null  object\n",
            " 5   balance    45211 non-null  int64 \n",
            " 6   housing    45211 non-null  object\n",
            " 7   loan       45211 non-null  object\n",
            " 8   contact    45211 non-null  object\n",
            " 9   day        45211 non-null  int64 \n",
            " 10  month      45211 non-null  object\n",
            " 11  duration   45211 non-null  int64 \n",
            " 12  campaign   45211 non-null  int64 \n",
            " 13  pdays      45211 non-null  int64 \n",
            " 14  previous   45211 non-null  int64 \n",
            " 15  poutcome   45211 non-null  object\n",
            " 16  y          45211 non-null  object\n",
            "dtypes: int64(7), object(10)\n",
            "memory usage: 5.9+ MB\n"
          ]
        }
      ],
      "source": [
        "df.info()"
      ]
    },
    {
      "cell_type": "code",
      "execution_count": null,
      "id": "462009d6-5301-4a22-9349-2c62c322d0f0",
      "metadata": {
        "id": "462009d6-5301-4a22-9349-2c62c322d0f0",
        "outputId": "3a638cdf-1dbc-42ac-c7eb-2a00dace873f"
      },
      "outputs": [
        {
          "data": {
            "text/plain": [
              "age          0\n",
              "job          0\n",
              "marital      0\n",
              "education    0\n",
              "default      0\n",
              "balance      0\n",
              "housing      0\n",
              "loan         0\n",
              "contact      0\n",
              "day          0\n",
              "month        0\n",
              "duration     0\n",
              "campaign     0\n",
              "pdays        0\n",
              "previous     0\n",
              "poutcome     0\n",
              "y            0\n",
              "dtype: int64"
            ]
          },
          "execution_count": 6,
          "metadata": {},
          "output_type": "execute_result"
        }
      ],
      "source": [
        "df.isna().sum()"
      ]
    },
    {
      "cell_type": "markdown",
      "id": "d0df03a9-2dc3-4c79-bb5a-17e126a93f0a",
      "metadata": {
        "id": "d0df03a9-2dc3-4c79-bb5a-17e126a93f0a"
      },
      "source": [
        "> Dari data diatas bisa kita lihat bahwa dataset tersebut sudah bersih, tidak ada ditemukan null values, juga data type nya sudah sesuai."
      ]
    },
    {
      "cell_type": "code",
      "execution_count": null,
      "id": "648f625a-6166-4248-9867-8c19fafdf159",
      "metadata": {
        "id": "648f625a-6166-4248-9867-8c19fafdf159",
        "outputId": "e5c52f3d-61a0-40cd-eadf-d346ef4c8363"
      },
      "outputs": [
        {
          "data": {
            "text/html": [
              "<div>\n",
              "<style scoped>\n",
              "    .dataframe tbody tr th:only-of-type {\n",
              "        vertical-align: middle;\n",
              "    }\n",
              "\n",
              "    .dataframe tbody tr th {\n",
              "        vertical-align: top;\n",
              "    }\n",
              "\n",
              "    .dataframe thead th {\n",
              "        text-align: right;\n",
              "    }\n",
              "</style>\n",
              "<table border=\"1\" class=\"dataframe\">\n",
              "  <thead>\n",
              "    <tr style=\"text-align: right;\">\n",
              "      <th></th>\n",
              "      <th>age</th>\n",
              "      <th>balance</th>\n",
              "      <th>day</th>\n",
              "      <th>duration</th>\n",
              "      <th>campaign</th>\n",
              "      <th>pdays</th>\n",
              "      <th>previous</th>\n",
              "    </tr>\n",
              "  </thead>\n",
              "  <tbody>\n",
              "    <tr>\n",
              "      <th>count</th>\n",
              "      <td>45211.000000</td>\n",
              "      <td>45211.000000</td>\n",
              "      <td>45211.000000</td>\n",
              "      <td>45211.000000</td>\n",
              "      <td>45211.000000</td>\n",
              "      <td>45211.000000</td>\n",
              "      <td>45211.000000</td>\n",
              "    </tr>\n",
              "    <tr>\n",
              "      <th>mean</th>\n",
              "      <td>40.936210</td>\n",
              "      <td>1362.272058</td>\n",
              "      <td>15.806419</td>\n",
              "      <td>258.163080</td>\n",
              "      <td>2.763841</td>\n",
              "      <td>40.197828</td>\n",
              "      <td>0.580323</td>\n",
              "    </tr>\n",
              "    <tr>\n",
              "      <th>std</th>\n",
              "      <td>10.618762</td>\n",
              "      <td>3044.765829</td>\n",
              "      <td>8.322476</td>\n",
              "      <td>257.527812</td>\n",
              "      <td>3.098021</td>\n",
              "      <td>100.128746</td>\n",
              "      <td>2.303441</td>\n",
              "    </tr>\n",
              "    <tr>\n",
              "      <th>min</th>\n",
              "      <td>18.000000</td>\n",
              "      <td>-8019.000000</td>\n",
              "      <td>1.000000</td>\n",
              "      <td>0.000000</td>\n",
              "      <td>1.000000</td>\n",
              "      <td>-1.000000</td>\n",
              "      <td>0.000000</td>\n",
              "    </tr>\n",
              "    <tr>\n",
              "      <th>25%</th>\n",
              "      <td>33.000000</td>\n",
              "      <td>72.000000</td>\n",
              "      <td>8.000000</td>\n",
              "      <td>103.000000</td>\n",
              "      <td>1.000000</td>\n",
              "      <td>-1.000000</td>\n",
              "      <td>0.000000</td>\n",
              "    </tr>\n",
              "    <tr>\n",
              "      <th>50%</th>\n",
              "      <td>39.000000</td>\n",
              "      <td>448.000000</td>\n",
              "      <td>16.000000</td>\n",
              "      <td>180.000000</td>\n",
              "      <td>2.000000</td>\n",
              "      <td>-1.000000</td>\n",
              "      <td>0.000000</td>\n",
              "    </tr>\n",
              "    <tr>\n",
              "      <th>75%</th>\n",
              "      <td>48.000000</td>\n",
              "      <td>1428.000000</td>\n",
              "      <td>21.000000</td>\n",
              "      <td>319.000000</td>\n",
              "      <td>3.000000</td>\n",
              "      <td>-1.000000</td>\n",
              "      <td>0.000000</td>\n",
              "    </tr>\n",
              "    <tr>\n",
              "      <th>max</th>\n",
              "      <td>95.000000</td>\n",
              "      <td>102127.000000</td>\n",
              "      <td>31.000000</td>\n",
              "      <td>4918.000000</td>\n",
              "      <td>63.000000</td>\n",
              "      <td>871.000000</td>\n",
              "      <td>275.000000</td>\n",
              "    </tr>\n",
              "  </tbody>\n",
              "</table>\n",
              "</div>"
            ],
            "text/plain": [
              "                age        balance           day      duration      campaign  \\\n",
              "count  45211.000000   45211.000000  45211.000000  45211.000000  45211.000000   \n",
              "mean      40.936210    1362.272058     15.806419    258.163080      2.763841   \n",
              "std       10.618762    3044.765829      8.322476    257.527812      3.098021   \n",
              "min       18.000000   -8019.000000      1.000000      0.000000      1.000000   \n",
              "25%       33.000000      72.000000      8.000000    103.000000      1.000000   \n",
              "50%       39.000000     448.000000     16.000000    180.000000      2.000000   \n",
              "75%       48.000000    1428.000000     21.000000    319.000000      3.000000   \n",
              "max       95.000000  102127.000000     31.000000   4918.000000     63.000000   \n",
              "\n",
              "              pdays      previous  \n",
              "count  45211.000000  45211.000000  \n",
              "mean      40.197828      0.580323  \n",
              "std      100.128746      2.303441  \n",
              "min       -1.000000      0.000000  \n",
              "25%       -1.000000      0.000000  \n",
              "50%       -1.000000      0.000000  \n",
              "75%       -1.000000      0.000000  \n",
              "max      871.000000    275.000000  "
            ]
          },
          "execution_count": 7,
          "metadata": {},
          "output_type": "execute_result"
        }
      ],
      "source": [
        "df.describe()"
      ]
    },
    {
      "cell_type": "markdown",
      "id": "f9e8abe7-845d-4067-948f-8e9df6563d19",
      "metadata": {
        "tags": [],
        "id": "f9e8abe7-845d-4067-948f-8e9df6563d19"
      },
      "source": [
        "> Describe diatas adalah ringkasan / summary dari kolom kolom yg ada pada dataset ini. Bisa kita lihat diatas mencakup count / jumlah values, mean / rerata, standard deviation, min values, max values, and quantiles / kuartil.\n",
        "\n",
        "> Dibawah ini ialah deskripsi pada categorical feature pada dataset. Bisa kita lihat ada count (banyak valuesnya), unique (banyak tipe kategori valuesnya), top (menampilkan kategori terbanyak dari suatu kolom), dan freq (frekuensi dari kategori yg muncul terbanyak itu)"
      ]
    },
    {
      "cell_type": "code",
      "execution_count": null,
      "id": "d26dabbb-f27a-4b8f-9e08-34b1f1ce91c8",
      "metadata": {
        "tags": [],
        "id": "d26dabbb-f27a-4b8f-9e08-34b1f1ce91c8",
        "outputId": "ad770288-6b6f-40ae-f4e2-cfb078bee91f"
      },
      "outputs": [
        {
          "data": {
            "text/html": [
              "<div>\n",
              "<style scoped>\n",
              "    .dataframe tbody tr th:only-of-type {\n",
              "        vertical-align: middle;\n",
              "    }\n",
              "\n",
              "    .dataframe tbody tr th {\n",
              "        vertical-align: top;\n",
              "    }\n",
              "\n",
              "    .dataframe thead th {\n",
              "        text-align: right;\n",
              "    }\n",
              "</style>\n",
              "<table border=\"1\" class=\"dataframe\">\n",
              "  <thead>\n",
              "    <tr style=\"text-align: right;\">\n",
              "      <th></th>\n",
              "      <th>count</th>\n",
              "      <th>unique</th>\n",
              "      <th>top</th>\n",
              "      <th>freq</th>\n",
              "    </tr>\n",
              "  </thead>\n",
              "  <tbody>\n",
              "    <tr>\n",
              "      <th>job</th>\n",
              "      <td>45211</td>\n",
              "      <td>12</td>\n",
              "      <td>blue-collar</td>\n",
              "      <td>9732</td>\n",
              "    </tr>\n",
              "    <tr>\n",
              "      <th>marital</th>\n",
              "      <td>45211</td>\n",
              "      <td>3</td>\n",
              "      <td>married</td>\n",
              "      <td>27214</td>\n",
              "    </tr>\n",
              "    <tr>\n",
              "      <th>education</th>\n",
              "      <td>45211</td>\n",
              "      <td>4</td>\n",
              "      <td>secondary</td>\n",
              "      <td>23202</td>\n",
              "    </tr>\n",
              "    <tr>\n",
              "      <th>default</th>\n",
              "      <td>45211</td>\n",
              "      <td>2</td>\n",
              "      <td>no</td>\n",
              "      <td>44396</td>\n",
              "    </tr>\n",
              "    <tr>\n",
              "      <th>housing</th>\n",
              "      <td>45211</td>\n",
              "      <td>2</td>\n",
              "      <td>yes</td>\n",
              "      <td>25130</td>\n",
              "    </tr>\n",
              "    <tr>\n",
              "      <th>loan</th>\n",
              "      <td>45211</td>\n",
              "      <td>2</td>\n",
              "      <td>no</td>\n",
              "      <td>37967</td>\n",
              "    </tr>\n",
              "    <tr>\n",
              "      <th>contact</th>\n",
              "      <td>45211</td>\n",
              "      <td>3</td>\n",
              "      <td>cellular</td>\n",
              "      <td>29285</td>\n",
              "    </tr>\n",
              "    <tr>\n",
              "      <th>month</th>\n",
              "      <td>45211</td>\n",
              "      <td>12</td>\n",
              "      <td>may</td>\n",
              "      <td>13766</td>\n",
              "    </tr>\n",
              "    <tr>\n",
              "      <th>poutcome</th>\n",
              "      <td>45211</td>\n",
              "      <td>4</td>\n",
              "      <td>unknown</td>\n",
              "      <td>36959</td>\n",
              "    </tr>\n",
              "    <tr>\n",
              "      <th>y</th>\n",
              "      <td>45211</td>\n",
              "      <td>2</td>\n",
              "      <td>no</td>\n",
              "      <td>39922</td>\n",
              "    </tr>\n",
              "  </tbody>\n",
              "</table>\n",
              "</div>"
            ],
            "text/plain": [
              "           count unique          top   freq\n",
              "job        45211     12  blue-collar   9732\n",
              "marital    45211      3      married  27214\n",
              "education  45211      4    secondary  23202\n",
              "default    45211      2           no  44396\n",
              "housing    45211      2          yes  25130\n",
              "loan       45211      2           no  37967\n",
              "contact    45211      3     cellular  29285\n",
              "month      45211     12          may  13766\n",
              "poutcome   45211      4      unknown  36959\n",
              "y          45211      2           no  39922"
            ]
          },
          "execution_count": 8,
          "metadata": {},
          "output_type": "execute_result"
        }
      ],
      "source": [
        "df.describe(include = 'object').T"
      ]
    },
    {
      "cell_type": "markdown",
      "id": "41839f70-093b-4487-a9e1-c66df596510e",
      "metadata": {
        "id": "41839f70-093b-4487-a9e1-c66df596510e"
      },
      "source": [
        "## PREPROCESSING"
      ]
    },
    {
      "cell_type": "code",
      "execution_count": null,
      "id": "51ccdd45-9d1b-4f05-876c-60613976481a",
      "metadata": {
        "id": "51ccdd45-9d1b-4f05-876c-60613976481a",
        "outputId": "20e494fa-17f5-40fc-fa6f-f24308023099"
      },
      "outputs": [
        {
          "data": {
            "text/html": [
              "<div>\n",
              "<style scoped>\n",
              "    .dataframe tbody tr th:only-of-type {\n",
              "        vertical-align: middle;\n",
              "    }\n",
              "\n",
              "    .dataframe tbody tr th {\n",
              "        vertical-align: top;\n",
              "    }\n",
              "\n",
              "    .dataframe thead th {\n",
              "        text-align: right;\n",
              "    }\n",
              "</style>\n",
              "<table border=\"1\" class=\"dataframe\">\n",
              "  <thead>\n",
              "    <tr style=\"text-align: right;\">\n",
              "      <th></th>\n",
              "      <th>age</th>\n",
              "      <th>job</th>\n",
              "      <th>marital</th>\n",
              "      <th>education</th>\n",
              "      <th>default</th>\n",
              "      <th>balance</th>\n",
              "      <th>housing</th>\n",
              "      <th>loan</th>\n",
              "      <th>contact</th>\n",
              "      <th>day</th>\n",
              "      <th>month</th>\n",
              "      <th>duration</th>\n",
              "      <th>campaign</th>\n",
              "      <th>pdays</th>\n",
              "      <th>previous</th>\n",
              "      <th>poutcome</th>\n",
              "      <th>y</th>\n",
              "    </tr>\n",
              "  </thead>\n",
              "  <tbody>\n",
              "    <tr>\n",
              "      <th>0</th>\n",
              "      <td>58</td>\n",
              "      <td>management</td>\n",
              "      <td>married</td>\n",
              "      <td>tertiary</td>\n",
              "      <td>no</td>\n",
              "      <td>2143</td>\n",
              "      <td>yes</td>\n",
              "      <td>no</td>\n",
              "      <td>unknown</td>\n",
              "      <td>5</td>\n",
              "      <td>may</td>\n",
              "      <td>261</td>\n",
              "      <td>1</td>\n",
              "      <td>-1</td>\n",
              "      <td>0</td>\n",
              "      <td>unknown</td>\n",
              "      <td>no</td>\n",
              "    </tr>\n",
              "    <tr>\n",
              "      <th>1</th>\n",
              "      <td>44</td>\n",
              "      <td>technician</td>\n",
              "      <td>single</td>\n",
              "      <td>secondary</td>\n",
              "      <td>no</td>\n",
              "      <td>29</td>\n",
              "      <td>yes</td>\n",
              "      <td>no</td>\n",
              "      <td>unknown</td>\n",
              "      <td>5</td>\n",
              "      <td>may</td>\n",
              "      <td>151</td>\n",
              "      <td>1</td>\n",
              "      <td>-1</td>\n",
              "      <td>0</td>\n",
              "      <td>unknown</td>\n",
              "      <td>no</td>\n",
              "    </tr>\n",
              "    <tr>\n",
              "      <th>2</th>\n",
              "      <td>33</td>\n",
              "      <td>entrepreneur</td>\n",
              "      <td>married</td>\n",
              "      <td>secondary</td>\n",
              "      <td>no</td>\n",
              "      <td>2</td>\n",
              "      <td>yes</td>\n",
              "      <td>yes</td>\n",
              "      <td>unknown</td>\n",
              "      <td>5</td>\n",
              "      <td>may</td>\n",
              "      <td>76</td>\n",
              "      <td>1</td>\n",
              "      <td>-1</td>\n",
              "      <td>0</td>\n",
              "      <td>unknown</td>\n",
              "      <td>no</td>\n",
              "    </tr>\n",
              "    <tr>\n",
              "      <th>3</th>\n",
              "      <td>47</td>\n",
              "      <td>blue-collar</td>\n",
              "      <td>married</td>\n",
              "      <td>unknown</td>\n",
              "      <td>no</td>\n",
              "      <td>1506</td>\n",
              "      <td>yes</td>\n",
              "      <td>no</td>\n",
              "      <td>unknown</td>\n",
              "      <td>5</td>\n",
              "      <td>may</td>\n",
              "      <td>92</td>\n",
              "      <td>1</td>\n",
              "      <td>-1</td>\n",
              "      <td>0</td>\n",
              "      <td>unknown</td>\n",
              "      <td>no</td>\n",
              "    </tr>\n",
              "    <tr>\n",
              "      <th>4</th>\n",
              "      <td>33</td>\n",
              "      <td>unknown</td>\n",
              "      <td>single</td>\n",
              "      <td>unknown</td>\n",
              "      <td>no</td>\n",
              "      <td>1</td>\n",
              "      <td>no</td>\n",
              "      <td>no</td>\n",
              "      <td>unknown</td>\n",
              "      <td>5</td>\n",
              "      <td>may</td>\n",
              "      <td>198</td>\n",
              "      <td>1</td>\n",
              "      <td>-1</td>\n",
              "      <td>0</td>\n",
              "      <td>unknown</td>\n",
              "      <td>no</td>\n",
              "    </tr>\n",
              "  </tbody>\n",
              "</table>\n",
              "</div>"
            ],
            "text/plain": [
              "   age           job  marital  education default  balance housing loan  \\\n",
              "0   58    management  married   tertiary      no     2143     yes   no   \n",
              "1   44    technician   single  secondary      no       29     yes   no   \n",
              "2   33  entrepreneur  married  secondary      no        2     yes  yes   \n",
              "3   47   blue-collar  married    unknown      no     1506     yes   no   \n",
              "4   33       unknown   single    unknown      no        1      no   no   \n",
              "\n",
              "   contact  day month  duration  campaign  pdays  previous poutcome   y  \n",
              "0  unknown    5   may       261         1     -1         0  unknown  no  \n",
              "1  unknown    5   may       151         1     -1         0  unknown  no  \n",
              "2  unknown    5   may        76         1     -1         0  unknown  no  \n",
              "3  unknown    5   may        92         1     -1         0  unknown  no  \n",
              "4  unknown    5   may       198         1     -1         0  unknown  no  "
            ]
          },
          "execution_count": 9,
          "metadata": {},
          "output_type": "execute_result"
        }
      ],
      "source": [
        "df.head()"
      ]
    },
    {
      "cell_type": "markdown",
      "id": "48e26545-6ad8-4c7b-8264-124f999243e9",
      "metadata": {
        "id": "48e26545-6ad8-4c7b-8264-124f999243e9"
      },
      "source": [
        "> Kita akan mencoba untuk mengubah nama feature `y` menjadi `subscribed`, agar lebih mudah untuk dibaca dan dipahami."
      ]
    },
    {
      "cell_type": "code",
      "execution_count": null,
      "id": "7128d8eb-bbe3-42a8-a30e-07ca94cf68a6",
      "metadata": {
        "id": "7128d8eb-bbe3-42a8-a30e-07ca94cf68a6"
      },
      "outputs": [],
      "source": [
        "df = df.rename(columns = {\"y\":\"subscribed\"})"
      ]
    },
    {
      "cell_type": "code",
      "execution_count": null,
      "id": "1c21d437-1a22-41a7-91a7-18906ca72183",
      "metadata": {
        "id": "1c21d437-1a22-41a7-91a7-18906ca72183",
        "outputId": "ae564a5d-b25f-46b9-a1d8-12b2565a56a2"
      },
      "outputs": [
        {
          "data": {
            "text/html": [
              "<div>\n",
              "<style scoped>\n",
              "    .dataframe tbody tr th:only-of-type {\n",
              "        vertical-align: middle;\n",
              "    }\n",
              "\n",
              "    .dataframe tbody tr th {\n",
              "        vertical-align: top;\n",
              "    }\n",
              "\n",
              "    .dataframe thead th {\n",
              "        text-align: right;\n",
              "    }\n",
              "</style>\n",
              "<table border=\"1\" class=\"dataframe\">\n",
              "  <thead>\n",
              "    <tr style=\"text-align: right;\">\n",
              "      <th></th>\n",
              "      <th>age</th>\n",
              "      <th>job</th>\n",
              "      <th>marital</th>\n",
              "      <th>education</th>\n",
              "      <th>default</th>\n",
              "      <th>balance</th>\n",
              "      <th>housing</th>\n",
              "      <th>loan</th>\n",
              "      <th>contact</th>\n",
              "      <th>day</th>\n",
              "      <th>month</th>\n",
              "      <th>duration</th>\n",
              "      <th>campaign</th>\n",
              "      <th>pdays</th>\n",
              "      <th>previous</th>\n",
              "      <th>poutcome</th>\n",
              "      <th>subscribed</th>\n",
              "    </tr>\n",
              "  </thead>\n",
              "  <tbody>\n",
              "    <tr>\n",
              "      <th>0</th>\n",
              "      <td>58</td>\n",
              "      <td>management</td>\n",
              "      <td>married</td>\n",
              "      <td>tertiary</td>\n",
              "      <td>no</td>\n",
              "      <td>2143</td>\n",
              "      <td>yes</td>\n",
              "      <td>no</td>\n",
              "      <td>unknown</td>\n",
              "      <td>5</td>\n",
              "      <td>may</td>\n",
              "      <td>261</td>\n",
              "      <td>1</td>\n",
              "      <td>-1</td>\n",
              "      <td>0</td>\n",
              "      <td>unknown</td>\n",
              "      <td>no</td>\n",
              "    </tr>\n",
              "    <tr>\n",
              "      <th>1</th>\n",
              "      <td>44</td>\n",
              "      <td>technician</td>\n",
              "      <td>single</td>\n",
              "      <td>secondary</td>\n",
              "      <td>no</td>\n",
              "      <td>29</td>\n",
              "      <td>yes</td>\n",
              "      <td>no</td>\n",
              "      <td>unknown</td>\n",
              "      <td>5</td>\n",
              "      <td>may</td>\n",
              "      <td>151</td>\n",
              "      <td>1</td>\n",
              "      <td>-1</td>\n",
              "      <td>0</td>\n",
              "      <td>unknown</td>\n",
              "      <td>no</td>\n",
              "    </tr>\n",
              "    <tr>\n",
              "      <th>2</th>\n",
              "      <td>33</td>\n",
              "      <td>entrepreneur</td>\n",
              "      <td>married</td>\n",
              "      <td>secondary</td>\n",
              "      <td>no</td>\n",
              "      <td>2</td>\n",
              "      <td>yes</td>\n",
              "      <td>yes</td>\n",
              "      <td>unknown</td>\n",
              "      <td>5</td>\n",
              "      <td>may</td>\n",
              "      <td>76</td>\n",
              "      <td>1</td>\n",
              "      <td>-1</td>\n",
              "      <td>0</td>\n",
              "      <td>unknown</td>\n",
              "      <td>no</td>\n",
              "    </tr>\n",
              "    <tr>\n",
              "      <th>3</th>\n",
              "      <td>47</td>\n",
              "      <td>blue-collar</td>\n",
              "      <td>married</td>\n",
              "      <td>unknown</td>\n",
              "      <td>no</td>\n",
              "      <td>1506</td>\n",
              "      <td>yes</td>\n",
              "      <td>no</td>\n",
              "      <td>unknown</td>\n",
              "      <td>5</td>\n",
              "      <td>may</td>\n",
              "      <td>92</td>\n",
              "      <td>1</td>\n",
              "      <td>-1</td>\n",
              "      <td>0</td>\n",
              "      <td>unknown</td>\n",
              "      <td>no</td>\n",
              "    </tr>\n",
              "    <tr>\n",
              "      <th>4</th>\n",
              "      <td>33</td>\n",
              "      <td>unknown</td>\n",
              "      <td>single</td>\n",
              "      <td>unknown</td>\n",
              "      <td>no</td>\n",
              "      <td>1</td>\n",
              "      <td>no</td>\n",
              "      <td>no</td>\n",
              "      <td>unknown</td>\n",
              "      <td>5</td>\n",
              "      <td>may</td>\n",
              "      <td>198</td>\n",
              "      <td>1</td>\n",
              "      <td>-1</td>\n",
              "      <td>0</td>\n",
              "      <td>unknown</td>\n",
              "      <td>no</td>\n",
              "    </tr>\n",
              "  </tbody>\n",
              "</table>\n",
              "</div>"
            ],
            "text/plain": [
              "   age           job  marital  education default  balance housing loan  \\\n",
              "0   58    management  married   tertiary      no     2143     yes   no   \n",
              "1   44    technician   single  secondary      no       29     yes   no   \n",
              "2   33  entrepreneur  married  secondary      no        2     yes  yes   \n",
              "3   47   blue-collar  married    unknown      no     1506     yes   no   \n",
              "4   33       unknown   single    unknown      no        1      no   no   \n",
              "\n",
              "   contact  day month  duration  campaign  pdays  previous poutcome subscribed  \n",
              "0  unknown    5   may       261         1     -1         0  unknown         no  \n",
              "1  unknown    5   may       151         1     -1         0  unknown         no  \n",
              "2  unknown    5   may        76         1     -1         0  unknown         no  \n",
              "3  unknown    5   may        92         1     -1         0  unknown         no  \n",
              "4  unknown    5   may       198         1     -1         0  unknown         no  "
            ]
          },
          "execution_count": 11,
          "metadata": {},
          "output_type": "execute_result"
        }
      ],
      "source": [
        "df.head()"
      ]
    },
    {
      "cell_type": "code",
      "execution_count": null,
      "id": "d3ba0949-aad9-465b-a672-365b08e4c79d",
      "metadata": {
        "id": "d3ba0949-aad9-465b-a672-365b08e4c79d",
        "outputId": "ee868fdb-392d-4f9e-8b3b-10a87bdfc179"
      },
      "outputs": [
        {
          "name": "stdout",
          "output_type": "stream",
          "text": [
            "<class 'pandas.core.frame.DataFrame'>\n",
            "RangeIndex: 45211 entries, 0 to 45210\n",
            "Data columns (total 17 columns):\n",
            " #   Column      Non-Null Count  Dtype \n",
            "---  ------      --------------  ----- \n",
            " 0   age         45211 non-null  int64 \n",
            " 1   job         45211 non-null  object\n",
            " 2   marital     45211 non-null  object\n",
            " 3   education   45211 non-null  object\n",
            " 4   default     45211 non-null  object\n",
            " 5   balance     45211 non-null  int64 \n",
            " 6   housing     45211 non-null  object\n",
            " 7   loan        45211 non-null  object\n",
            " 8   contact     45211 non-null  object\n",
            " 9   day         45211 non-null  int64 \n",
            " 10  month       45211 non-null  object\n",
            " 11  duration    45211 non-null  int64 \n",
            " 12  campaign    45211 non-null  int64 \n",
            " 13  pdays       45211 non-null  int64 \n",
            " 14  previous    45211 non-null  int64 \n",
            " 15  poutcome    45211 non-null  object\n",
            " 16  subscribed  45211 non-null  object\n",
            "dtypes: int64(7), object(10)\n",
            "memory usage: 5.9+ MB\n"
          ]
        }
      ],
      "source": [
        "df.info()"
      ]
    },
    {
      "cell_type": "markdown",
      "id": "a87e9f72-6994-4809-8d34-72fe03fefff1",
      "metadata": {
        "id": "a87e9f72-6994-4809-8d34-72fe03fefff1"
      },
      "source": [
        ">  lanjut pengelompokkan berdasarkan data type nya."
      ]
    },
    {
      "cell_type": "code",
      "execution_count": null,
      "id": "a0614ef9-962b-4fd8-8253-df6a07ea5903",
      "metadata": {
        "id": "a0614ef9-962b-4fd8-8253-df6a07ea5903"
      },
      "outputs": [],
      "source": [
        "df_cat = df.select_dtypes([\"object\"])\n",
        "df_con = df.drop(columns = df_cat.columns)"
      ]
    },
    {
      "cell_type": "code",
      "execution_count": null,
      "id": "33cbae55-8cc9-44b9-8379-811b1ce2f6a5",
      "metadata": {
        "id": "33cbae55-8cc9-44b9-8379-811b1ce2f6a5",
        "outputId": "57eddb55-13e6-4ed8-f61f-68dad107ddc8"
      },
      "outputs": [
        {
          "data": {
            "text/html": [
              "<div>\n",
              "<style scoped>\n",
              "    .dataframe tbody tr th:only-of-type {\n",
              "        vertical-align: middle;\n",
              "    }\n",
              "\n",
              "    .dataframe tbody tr th {\n",
              "        vertical-align: top;\n",
              "    }\n",
              "\n",
              "    .dataframe thead th {\n",
              "        text-align: right;\n",
              "    }\n",
              "</style>\n",
              "<table border=\"1\" class=\"dataframe\">\n",
              "  <thead>\n",
              "    <tr style=\"text-align: right;\">\n",
              "      <th></th>\n",
              "      <th>job</th>\n",
              "      <th>marital</th>\n",
              "      <th>education</th>\n",
              "      <th>default</th>\n",
              "      <th>housing</th>\n",
              "      <th>loan</th>\n",
              "      <th>contact</th>\n",
              "      <th>month</th>\n",
              "      <th>poutcome</th>\n",
              "      <th>subscribed</th>\n",
              "    </tr>\n",
              "  </thead>\n",
              "  <tbody>\n",
              "    <tr>\n",
              "      <th>0</th>\n",
              "      <td>management</td>\n",
              "      <td>married</td>\n",
              "      <td>tertiary</td>\n",
              "      <td>no</td>\n",
              "      <td>yes</td>\n",
              "      <td>no</td>\n",
              "      <td>unknown</td>\n",
              "      <td>may</td>\n",
              "      <td>unknown</td>\n",
              "      <td>no</td>\n",
              "    </tr>\n",
              "    <tr>\n",
              "      <th>1</th>\n",
              "      <td>technician</td>\n",
              "      <td>single</td>\n",
              "      <td>secondary</td>\n",
              "      <td>no</td>\n",
              "      <td>yes</td>\n",
              "      <td>no</td>\n",
              "      <td>unknown</td>\n",
              "      <td>may</td>\n",
              "      <td>unknown</td>\n",
              "      <td>no</td>\n",
              "    </tr>\n",
              "    <tr>\n",
              "      <th>2</th>\n",
              "      <td>entrepreneur</td>\n",
              "      <td>married</td>\n",
              "      <td>secondary</td>\n",
              "      <td>no</td>\n",
              "      <td>yes</td>\n",
              "      <td>yes</td>\n",
              "      <td>unknown</td>\n",
              "      <td>may</td>\n",
              "      <td>unknown</td>\n",
              "      <td>no</td>\n",
              "    </tr>\n",
              "    <tr>\n",
              "      <th>3</th>\n",
              "      <td>blue-collar</td>\n",
              "      <td>married</td>\n",
              "      <td>unknown</td>\n",
              "      <td>no</td>\n",
              "      <td>yes</td>\n",
              "      <td>no</td>\n",
              "      <td>unknown</td>\n",
              "      <td>may</td>\n",
              "      <td>unknown</td>\n",
              "      <td>no</td>\n",
              "    </tr>\n",
              "    <tr>\n",
              "      <th>4</th>\n",
              "      <td>unknown</td>\n",
              "      <td>single</td>\n",
              "      <td>unknown</td>\n",
              "      <td>no</td>\n",
              "      <td>no</td>\n",
              "      <td>no</td>\n",
              "      <td>unknown</td>\n",
              "      <td>may</td>\n",
              "      <td>unknown</td>\n",
              "      <td>no</td>\n",
              "    </tr>\n",
              "  </tbody>\n",
              "</table>\n",
              "</div>"
            ],
            "text/plain": [
              "            job  marital  education default housing loan  contact month  \\\n",
              "0    management  married   tertiary      no     yes   no  unknown   may   \n",
              "1    technician   single  secondary      no     yes   no  unknown   may   \n",
              "2  entrepreneur  married  secondary      no     yes  yes  unknown   may   \n",
              "3   blue-collar  married    unknown      no     yes   no  unknown   may   \n",
              "4       unknown   single    unknown      no      no   no  unknown   may   \n",
              "\n",
              "  poutcome subscribed  \n",
              "0  unknown         no  \n",
              "1  unknown         no  \n",
              "2  unknown         no  \n",
              "3  unknown         no  \n",
              "4  unknown         no  "
            ]
          },
          "execution_count": 14,
          "metadata": {},
          "output_type": "execute_result"
        }
      ],
      "source": [
        "df_cat.head()"
      ]
    },
    {
      "cell_type": "code",
      "execution_count": null,
      "id": "ec5775ea-4200-444e-8ae7-0909a3984c45",
      "metadata": {
        "id": "ec5775ea-4200-444e-8ae7-0909a3984c45",
        "outputId": "97873d45-334b-41f1-9ff1-63fc1457db73"
      },
      "outputs": [
        {
          "data": {
            "text/html": [
              "<div>\n",
              "<style scoped>\n",
              "    .dataframe tbody tr th:only-of-type {\n",
              "        vertical-align: middle;\n",
              "    }\n",
              "\n",
              "    .dataframe tbody tr th {\n",
              "        vertical-align: top;\n",
              "    }\n",
              "\n",
              "    .dataframe thead th {\n",
              "        text-align: right;\n",
              "    }\n",
              "</style>\n",
              "<table border=\"1\" class=\"dataframe\">\n",
              "  <thead>\n",
              "    <tr style=\"text-align: right;\">\n",
              "      <th></th>\n",
              "      <th>age</th>\n",
              "      <th>balance</th>\n",
              "      <th>day</th>\n",
              "      <th>duration</th>\n",
              "      <th>campaign</th>\n",
              "      <th>pdays</th>\n",
              "      <th>previous</th>\n",
              "    </tr>\n",
              "  </thead>\n",
              "  <tbody>\n",
              "    <tr>\n",
              "      <th>0</th>\n",
              "      <td>58</td>\n",
              "      <td>2143</td>\n",
              "      <td>5</td>\n",
              "      <td>261</td>\n",
              "      <td>1</td>\n",
              "      <td>-1</td>\n",
              "      <td>0</td>\n",
              "    </tr>\n",
              "    <tr>\n",
              "      <th>1</th>\n",
              "      <td>44</td>\n",
              "      <td>29</td>\n",
              "      <td>5</td>\n",
              "      <td>151</td>\n",
              "      <td>1</td>\n",
              "      <td>-1</td>\n",
              "      <td>0</td>\n",
              "    </tr>\n",
              "    <tr>\n",
              "      <th>2</th>\n",
              "      <td>33</td>\n",
              "      <td>2</td>\n",
              "      <td>5</td>\n",
              "      <td>76</td>\n",
              "      <td>1</td>\n",
              "      <td>-1</td>\n",
              "      <td>0</td>\n",
              "    </tr>\n",
              "    <tr>\n",
              "      <th>3</th>\n",
              "      <td>47</td>\n",
              "      <td>1506</td>\n",
              "      <td>5</td>\n",
              "      <td>92</td>\n",
              "      <td>1</td>\n",
              "      <td>-1</td>\n",
              "      <td>0</td>\n",
              "    </tr>\n",
              "    <tr>\n",
              "      <th>4</th>\n",
              "      <td>33</td>\n",
              "      <td>1</td>\n",
              "      <td>5</td>\n",
              "      <td>198</td>\n",
              "      <td>1</td>\n",
              "      <td>-1</td>\n",
              "      <td>0</td>\n",
              "    </tr>\n",
              "  </tbody>\n",
              "</table>\n",
              "</div>"
            ],
            "text/plain": [
              "   age  balance  day  duration  campaign  pdays  previous\n",
              "0   58     2143    5       261         1     -1         0\n",
              "1   44       29    5       151         1     -1         0\n",
              "2   33        2    5        76         1     -1         0\n",
              "3   47     1506    5        92         1     -1         0\n",
              "4   33        1    5       198         1     -1         0"
            ]
          },
          "execution_count": 15,
          "metadata": {},
          "output_type": "execute_result"
        }
      ],
      "source": [
        "df_con.head()"
      ]
    },
    {
      "cell_type": "markdown",
      "id": "15375d4e-e780-4031-b36b-4f450488cc1e",
      "metadata": {
        "id": "15375d4e-e780-4031-b36b-4f450488cc1e"
      },
      "source": [
        "> Menggunakan pd.concat() satukan semua data yang tadi terpisah"
      ]
    },
    {
      "cell_type": "code",
      "execution_count": null,
      "id": "f4eae073-feab-45a3-b8f4-619db9bca464",
      "metadata": {
        "id": "f4eae073-feab-45a3-b8f4-619db9bca464"
      },
      "outputs": [],
      "source": [
        "df_new = pd.concat([df_cat, df_con], axis = 1)"
      ]
    },
    {
      "cell_type": "code",
      "execution_count": null,
      "id": "8fab50bc-dff2-42f8-adab-224c03d346e4",
      "metadata": {
        "id": "8fab50bc-dff2-42f8-adab-224c03d346e4",
        "outputId": "9858cb50-459f-4ab4-d758-1a835b6c8e7b"
      },
      "outputs": [
        {
          "data": {
            "text/html": [
              "<div>\n",
              "<style scoped>\n",
              "    .dataframe tbody tr th:only-of-type {\n",
              "        vertical-align: middle;\n",
              "    }\n",
              "\n",
              "    .dataframe tbody tr th {\n",
              "        vertical-align: top;\n",
              "    }\n",
              "\n",
              "    .dataframe thead th {\n",
              "        text-align: right;\n",
              "    }\n",
              "</style>\n",
              "<table border=\"1\" class=\"dataframe\">\n",
              "  <thead>\n",
              "    <tr style=\"text-align: right;\">\n",
              "      <th></th>\n",
              "      <th>job</th>\n",
              "      <th>marital</th>\n",
              "      <th>education</th>\n",
              "      <th>default</th>\n",
              "      <th>housing</th>\n",
              "      <th>loan</th>\n",
              "      <th>contact</th>\n",
              "      <th>month</th>\n",
              "      <th>poutcome</th>\n",
              "      <th>subscribed</th>\n",
              "      <th>age</th>\n",
              "      <th>balance</th>\n",
              "      <th>day</th>\n",
              "      <th>duration</th>\n",
              "      <th>campaign</th>\n",
              "      <th>pdays</th>\n",
              "      <th>previous</th>\n",
              "    </tr>\n",
              "  </thead>\n",
              "  <tbody>\n",
              "    <tr>\n",
              "      <th>0</th>\n",
              "      <td>management</td>\n",
              "      <td>married</td>\n",
              "      <td>tertiary</td>\n",
              "      <td>no</td>\n",
              "      <td>yes</td>\n",
              "      <td>no</td>\n",
              "      <td>unknown</td>\n",
              "      <td>may</td>\n",
              "      <td>unknown</td>\n",
              "      <td>no</td>\n",
              "      <td>58</td>\n",
              "      <td>2143</td>\n",
              "      <td>5</td>\n",
              "      <td>261</td>\n",
              "      <td>1</td>\n",
              "      <td>-1</td>\n",
              "      <td>0</td>\n",
              "    </tr>\n",
              "    <tr>\n",
              "      <th>1</th>\n",
              "      <td>technician</td>\n",
              "      <td>single</td>\n",
              "      <td>secondary</td>\n",
              "      <td>no</td>\n",
              "      <td>yes</td>\n",
              "      <td>no</td>\n",
              "      <td>unknown</td>\n",
              "      <td>may</td>\n",
              "      <td>unknown</td>\n",
              "      <td>no</td>\n",
              "      <td>44</td>\n",
              "      <td>29</td>\n",
              "      <td>5</td>\n",
              "      <td>151</td>\n",
              "      <td>1</td>\n",
              "      <td>-1</td>\n",
              "      <td>0</td>\n",
              "    </tr>\n",
              "    <tr>\n",
              "      <th>2</th>\n",
              "      <td>entrepreneur</td>\n",
              "      <td>married</td>\n",
              "      <td>secondary</td>\n",
              "      <td>no</td>\n",
              "      <td>yes</td>\n",
              "      <td>yes</td>\n",
              "      <td>unknown</td>\n",
              "      <td>may</td>\n",
              "      <td>unknown</td>\n",
              "      <td>no</td>\n",
              "      <td>33</td>\n",
              "      <td>2</td>\n",
              "      <td>5</td>\n",
              "      <td>76</td>\n",
              "      <td>1</td>\n",
              "      <td>-1</td>\n",
              "      <td>0</td>\n",
              "    </tr>\n",
              "    <tr>\n",
              "      <th>3</th>\n",
              "      <td>blue-collar</td>\n",
              "      <td>married</td>\n",
              "      <td>unknown</td>\n",
              "      <td>no</td>\n",
              "      <td>yes</td>\n",
              "      <td>no</td>\n",
              "      <td>unknown</td>\n",
              "      <td>may</td>\n",
              "      <td>unknown</td>\n",
              "      <td>no</td>\n",
              "      <td>47</td>\n",
              "      <td>1506</td>\n",
              "      <td>5</td>\n",
              "      <td>92</td>\n",
              "      <td>1</td>\n",
              "      <td>-1</td>\n",
              "      <td>0</td>\n",
              "    </tr>\n",
              "    <tr>\n",
              "      <th>4</th>\n",
              "      <td>unknown</td>\n",
              "      <td>single</td>\n",
              "      <td>unknown</td>\n",
              "      <td>no</td>\n",
              "      <td>no</td>\n",
              "      <td>no</td>\n",
              "      <td>unknown</td>\n",
              "      <td>may</td>\n",
              "      <td>unknown</td>\n",
              "      <td>no</td>\n",
              "      <td>33</td>\n",
              "      <td>1</td>\n",
              "      <td>5</td>\n",
              "      <td>198</td>\n",
              "      <td>1</td>\n",
              "      <td>-1</td>\n",
              "      <td>0</td>\n",
              "    </tr>\n",
              "  </tbody>\n",
              "</table>\n",
              "</div>"
            ],
            "text/plain": [
              "            job  marital  education default housing loan  contact month  \\\n",
              "0    management  married   tertiary      no     yes   no  unknown   may   \n",
              "1    technician   single  secondary      no     yes   no  unknown   may   \n",
              "2  entrepreneur  married  secondary      no     yes  yes  unknown   may   \n",
              "3   blue-collar  married    unknown      no     yes   no  unknown   may   \n",
              "4       unknown   single    unknown      no      no   no  unknown   may   \n",
              "\n",
              "  poutcome subscribed  age  balance  day  duration  campaign  pdays  previous  \n",
              "0  unknown         no   58     2143    5       261         1     -1         0  \n",
              "1  unknown         no   44       29    5       151         1     -1         0  \n",
              "2  unknown         no   33        2    5        76         1     -1         0  \n",
              "3  unknown         no   47     1506    5        92         1     -1         0  \n",
              "4  unknown         no   33        1    5       198         1     -1         0  "
            ]
          },
          "execution_count": 17,
          "metadata": {},
          "output_type": "execute_result"
        }
      ],
      "source": [
        "df_new.head()"
      ]
    },
    {
      "cell_type": "code",
      "execution_count": null,
      "id": "c8e4ce69-6586-49ac-b83a-3d75c8878a1c",
      "metadata": {
        "id": "c8e4ce69-6586-49ac-b83a-3d75c8878a1c",
        "outputId": "3a1349ee-39c7-46b5-8644-52f090510fd2"
      },
      "outputs": [
        {
          "name": "stdout",
          "output_type": "stream",
          "text": [
            "<class 'pandas.core.frame.DataFrame'>\n",
            "RangeIndex: 45211 entries, 0 to 45210\n",
            "Data columns (total 17 columns):\n",
            " #   Column      Non-Null Count  Dtype \n",
            "---  ------      --------------  ----- \n",
            " 0   job         45211 non-null  object\n",
            " 1   marital     45211 non-null  object\n",
            " 2   education   45211 non-null  object\n",
            " 3   default     45211 non-null  object\n",
            " 4   housing     45211 non-null  object\n",
            " 5   loan        45211 non-null  object\n",
            " 6   contact     45211 non-null  object\n",
            " 7   month       45211 non-null  object\n",
            " 8   poutcome    45211 non-null  object\n",
            " 9   subscribed  45211 non-null  object\n",
            " 10  age         45211 non-null  int64 \n",
            " 11  balance     45211 non-null  int64 \n",
            " 12  day         45211 non-null  int64 \n",
            " 13  duration    45211 non-null  int64 \n",
            " 14  campaign    45211 non-null  int64 \n",
            " 15  pdays       45211 non-null  int64 \n",
            " 16  previous    45211 non-null  int64 \n",
            "dtypes: int64(7), object(10)\n",
            "memory usage: 5.9+ MB\n"
          ]
        }
      ],
      "source": [
        "df_new.info()"
      ]
    },
    {
      "cell_type": "code",
      "execution_count": null,
      "id": "8ae6d7fd-63d6-4c1b-987e-17f79c634d5f",
      "metadata": {
        "id": "8ae6d7fd-63d6-4c1b-987e-17f79c634d5f",
        "outputId": "439b81f2-b8fb-4044-ef3d-c3089cb9aa77"
      },
      "outputs": [
        {
          "data": {
            "text/html": [
              "<div>\n",
              "<style scoped>\n",
              "    .dataframe tbody tr th:only-of-type {\n",
              "        vertical-align: middle;\n",
              "    }\n",
              "\n",
              "    .dataframe tbody tr th {\n",
              "        vertical-align: top;\n",
              "    }\n",
              "\n",
              "    .dataframe thead th {\n",
              "        text-align: right;\n",
              "    }\n",
              "</style>\n",
              "<table border=\"1\" class=\"dataframe\">\n",
              "  <thead>\n",
              "    <tr style=\"text-align: right;\">\n",
              "      <th></th>\n",
              "      <th>count</th>\n",
              "      <th>mean</th>\n",
              "      <th>std</th>\n",
              "      <th>min</th>\n",
              "      <th>25%</th>\n",
              "      <th>50%</th>\n",
              "      <th>75%</th>\n",
              "      <th>max</th>\n",
              "    </tr>\n",
              "  </thead>\n",
              "  <tbody>\n",
              "    <tr>\n",
              "      <th>age</th>\n",
              "      <td>45211.0</td>\n",
              "      <td>40.936210</td>\n",
              "      <td>10.618762</td>\n",
              "      <td>18.0</td>\n",
              "      <td>33.0</td>\n",
              "      <td>39.0</td>\n",
              "      <td>48.0</td>\n",
              "      <td>95.0</td>\n",
              "    </tr>\n",
              "    <tr>\n",
              "      <th>balance</th>\n",
              "      <td>45211.0</td>\n",
              "      <td>1362.272058</td>\n",
              "      <td>3044.765829</td>\n",
              "      <td>-8019.0</td>\n",
              "      <td>72.0</td>\n",
              "      <td>448.0</td>\n",
              "      <td>1428.0</td>\n",
              "      <td>102127.0</td>\n",
              "    </tr>\n",
              "    <tr>\n",
              "      <th>day</th>\n",
              "      <td>45211.0</td>\n",
              "      <td>15.806419</td>\n",
              "      <td>8.322476</td>\n",
              "      <td>1.0</td>\n",
              "      <td>8.0</td>\n",
              "      <td>16.0</td>\n",
              "      <td>21.0</td>\n",
              "      <td>31.0</td>\n",
              "    </tr>\n",
              "    <tr>\n",
              "      <th>duration</th>\n",
              "      <td>45211.0</td>\n",
              "      <td>258.163080</td>\n",
              "      <td>257.527812</td>\n",
              "      <td>0.0</td>\n",
              "      <td>103.0</td>\n",
              "      <td>180.0</td>\n",
              "      <td>319.0</td>\n",
              "      <td>4918.0</td>\n",
              "    </tr>\n",
              "    <tr>\n",
              "      <th>campaign</th>\n",
              "      <td>45211.0</td>\n",
              "      <td>2.763841</td>\n",
              "      <td>3.098021</td>\n",
              "      <td>1.0</td>\n",
              "      <td>1.0</td>\n",
              "      <td>2.0</td>\n",
              "      <td>3.0</td>\n",
              "      <td>63.0</td>\n",
              "    </tr>\n",
              "    <tr>\n",
              "      <th>pdays</th>\n",
              "      <td>45211.0</td>\n",
              "      <td>40.197828</td>\n",
              "      <td>100.128746</td>\n",
              "      <td>-1.0</td>\n",
              "      <td>-1.0</td>\n",
              "      <td>-1.0</td>\n",
              "      <td>-1.0</td>\n",
              "      <td>871.0</td>\n",
              "    </tr>\n",
              "    <tr>\n",
              "      <th>previous</th>\n",
              "      <td>45211.0</td>\n",
              "      <td>0.580323</td>\n",
              "      <td>2.303441</td>\n",
              "      <td>0.0</td>\n",
              "      <td>0.0</td>\n",
              "      <td>0.0</td>\n",
              "      <td>0.0</td>\n",
              "      <td>275.0</td>\n",
              "    </tr>\n",
              "  </tbody>\n",
              "</table>\n",
              "</div>"
            ],
            "text/plain": [
              "            count         mean          std     min    25%    50%     75%  \\\n",
              "age       45211.0    40.936210    10.618762    18.0   33.0   39.0    48.0   \n",
              "balance   45211.0  1362.272058  3044.765829 -8019.0   72.0  448.0  1428.0   \n",
              "day       45211.0    15.806419     8.322476     1.0    8.0   16.0    21.0   \n",
              "duration  45211.0   258.163080   257.527812     0.0  103.0  180.0   319.0   \n",
              "campaign  45211.0     2.763841     3.098021     1.0    1.0    2.0     3.0   \n",
              "pdays     45211.0    40.197828   100.128746    -1.0   -1.0   -1.0    -1.0   \n",
              "previous  45211.0     0.580323     2.303441     0.0    0.0    0.0     0.0   \n",
              "\n",
              "               max  \n",
              "age           95.0  \n",
              "balance   102127.0  \n",
              "day           31.0  \n",
              "duration    4918.0  \n",
              "campaign      63.0  \n",
              "pdays        871.0  \n",
              "previous     275.0  "
            ]
          },
          "execution_count": 19,
          "metadata": {},
          "output_type": "execute_result"
        }
      ],
      "source": [
        "df_new.describe().T"
      ]
    },
    {
      "cell_type": "code",
      "execution_count": null,
      "id": "5c5a7113-9b46-44fd-868b-ff86c20c7f0a",
      "metadata": {
        "tags": [],
        "id": "5c5a7113-9b46-44fd-868b-ff86c20c7f0a",
        "outputId": "c2eec8dc-d5e6-41c8-83ab-bffbcdd9619e"
      },
      "outputs": [
        {
          "data": {
            "text/html": [
              "<div>\n",
              "<style scoped>\n",
              "    .dataframe tbody tr th:only-of-type {\n",
              "        vertical-align: middle;\n",
              "    }\n",
              "\n",
              "    .dataframe tbody tr th {\n",
              "        vertical-align: top;\n",
              "    }\n",
              "\n",
              "    .dataframe thead th {\n",
              "        text-align: right;\n",
              "    }\n",
              "</style>\n",
              "<table border=\"1\" class=\"dataframe\">\n",
              "  <thead>\n",
              "    <tr style=\"text-align: right;\">\n",
              "      <th></th>\n",
              "      <th>count</th>\n",
              "      <th>unique</th>\n",
              "      <th>top</th>\n",
              "      <th>freq</th>\n",
              "    </tr>\n",
              "  </thead>\n",
              "  <tbody>\n",
              "    <tr>\n",
              "      <th>job</th>\n",
              "      <td>45211</td>\n",
              "      <td>12</td>\n",
              "      <td>blue-collar</td>\n",
              "      <td>9732</td>\n",
              "    </tr>\n",
              "    <tr>\n",
              "      <th>marital</th>\n",
              "      <td>45211</td>\n",
              "      <td>3</td>\n",
              "      <td>married</td>\n",
              "      <td>27214</td>\n",
              "    </tr>\n",
              "    <tr>\n",
              "      <th>education</th>\n",
              "      <td>45211</td>\n",
              "      <td>4</td>\n",
              "      <td>secondary</td>\n",
              "      <td>23202</td>\n",
              "    </tr>\n",
              "    <tr>\n",
              "      <th>default</th>\n",
              "      <td>45211</td>\n",
              "      <td>2</td>\n",
              "      <td>no</td>\n",
              "      <td>44396</td>\n",
              "    </tr>\n",
              "    <tr>\n",
              "      <th>housing</th>\n",
              "      <td>45211</td>\n",
              "      <td>2</td>\n",
              "      <td>yes</td>\n",
              "      <td>25130</td>\n",
              "    </tr>\n",
              "    <tr>\n",
              "      <th>loan</th>\n",
              "      <td>45211</td>\n",
              "      <td>2</td>\n",
              "      <td>no</td>\n",
              "      <td>37967</td>\n",
              "    </tr>\n",
              "    <tr>\n",
              "      <th>contact</th>\n",
              "      <td>45211</td>\n",
              "      <td>3</td>\n",
              "      <td>cellular</td>\n",
              "      <td>29285</td>\n",
              "    </tr>\n",
              "    <tr>\n",
              "      <th>month</th>\n",
              "      <td>45211</td>\n",
              "      <td>12</td>\n",
              "      <td>may</td>\n",
              "      <td>13766</td>\n",
              "    </tr>\n",
              "    <tr>\n",
              "      <th>poutcome</th>\n",
              "      <td>45211</td>\n",
              "      <td>4</td>\n",
              "      <td>unknown</td>\n",
              "      <td>36959</td>\n",
              "    </tr>\n",
              "    <tr>\n",
              "      <th>subscribed</th>\n",
              "      <td>45211</td>\n",
              "      <td>2</td>\n",
              "      <td>no</td>\n",
              "      <td>39922</td>\n",
              "    </tr>\n",
              "  </tbody>\n",
              "</table>\n",
              "</div>"
            ],
            "text/plain": [
              "            count unique          top   freq\n",
              "job         45211     12  blue-collar   9732\n",
              "marital     45211      3      married  27214\n",
              "education   45211      4    secondary  23202\n",
              "default     45211      2           no  44396\n",
              "housing     45211      2          yes  25130\n",
              "loan        45211      2           no  37967\n",
              "contact     45211      3     cellular  29285\n",
              "month       45211     12          may  13766\n",
              "poutcome    45211      4      unknown  36959\n",
              "subscribed  45211      2           no  39922"
            ]
          },
          "execution_count": 20,
          "metadata": {},
          "output_type": "execute_result"
        }
      ],
      "source": [
        "df_new.describe(include = \"object\").T"
      ]
    },
    {
      "cell_type": "markdown",
      "id": "19c6f6f3-24e6-425c-92a0-4d2dae202c22",
      "metadata": {
        "id": "19c6f6f3-24e6-425c-92a0-4d2dae202c22"
      },
      "source": [
        "> Semua data sudah bersih dari Null Values dan sudah sesuai dengan tipe datanya, maka kita bisa lanjut ke EDA (Exploratory Data Analysis)"
      ]
    },
    {
      "cell_type": "markdown",
      "id": "45fe6e2d-b9a5-4282-beee-47940c22801f",
      "metadata": {
        "tags": [],
        "id": "45fe6e2d-b9a5-4282-beee-47940c22801f"
      },
      "source": [
        "## EXPLORATORY DATA ANALYSIS"
      ]
    },
    {
      "cell_type": "markdown",
      "id": "0e8fce31-f5d4-4485-ac0c-6b36e79d4e5c",
      "metadata": {
        "tags": [],
        "id": "0e8fce31-f5d4-4485-ac0c-6b36e79d4e5c"
      },
      "source": [
        "### TARGET FEATURE"
      ]
    },
    {
      "cell_type": "markdown",
      "id": "75302bd2-cce5-4f32-8229-1ffe1efa7a41",
      "metadata": {
        "id": "75302bd2-cce5-4f32-8229-1ffe1efa7a41"
      },
      "source": [
        "> Kita akan melihat target featurenya terlebihdahulu"
      ]
    },
    {
      "cell_type": "code",
      "execution_count": null,
      "id": "3ced2e91-33fa-4206-914d-dc719067518f",
      "metadata": {
        "id": "3ced2e91-33fa-4206-914d-dc719067518f",
        "outputId": "dcba6dfe-8ba4-43e1-d6ef-c6e0b1b35dd5"
      },
      "outputs": [
        {
          "data": {
            "image/png": "[encoded data removed]",
            "text/plain": [
              "<Figure size 864x576 with 1 Axes>"
            ]
          },
          "metadata": {},
          "output_type": "display_data"
        }
      ],
      "source": [
        "plt.figure(figsize = (12, 8))\n",
        "\n",
        "plt.title('subscribed Yes or No?', size = 25, fontweight = 'bold', color = 'white')\n",
        "\n",
        "labels = 'No', 'Yes'\n",
        "\n",
        "plt.pie(df_new['subscribed'].value_counts(), autopct = '%.0f%%', \n",
        "        textprops = {'fontsize' : 17, 'color' : 'white'}, explode = (0.1,0))\n",
        "\n",
        "plt.legend(labels, loc='lower right', fontsize = 13)\n",
        "\n",
        "plt.show()"
      ]
    },
    {
      "cell_type": "code",
      "execution_count": null,
      "id": "0df3e6b6-12aa-47ce-9cfa-ba917114e87e",
      "metadata": {
        "id": "0df3e6b6-12aa-47ce-9cfa-ba917114e87e",
        "outputId": "4dc70b14-82b2-4e4f-e779-7ac539a687fd"
      },
      "outputs": [
        {
          "data": {
            "text/plain": [
              "no     39922\n",
              "yes     5289\n",
              "Name: subscribed, dtype: int64"
            ]
          },
          "execution_count": 22,
          "metadata": {},
          "output_type": "execute_result"
        }
      ],
      "source": [
        "df_new[\"subscribed\"].value_counts()"
      ]
    },
    {
      "cell_type": "markdown",
      "id": "dc29c38b-beea-405d-8283-247eed61b5ab",
      "metadata": {
        "id": "dc29c38b-beea-405d-8283-247eed61b5ab"
      },
      "source": [
        "> Berdasarkan pie chart diatas, kita bisa melihat bahwa ada sekitar 12% (5289) client yang sudah deposit, sedangkan 88% (39922) nya lagi belum."
      ]
    },
    {
      "cell_type": "markdown",
      "id": "587284c9-cd2c-490f-be88-d62018fa31d3",
      "metadata": {
        "tags": [],
        "id": "587284c9-cd2c-490f-be88-d62018fa31d3"
      },
      "source": [
        "## NUMERICAL FEATURES"
      ]
    },
    {
      "cell_type": "markdown",
      "id": "cf132396-0bbd-4440-95bf-8224cc77b60e",
      "metadata": {
        "id": "cf132396-0bbd-4440-95bf-8224cc77b60e"
      },
      "source": [
        "> Pertama-tama kita akan menganalisa terlebihdahulu korelasi dari data numerical ini."
      ]
    },
    {
      "cell_type": "code",
      "execution_count": null,
      "id": "17c853f4-4ba3-4ceb-846d-7fa79e989879",
      "metadata": {
        "id": "17c853f4-4ba3-4ceb-846d-7fa79e989879",
        "outputId": "e1167f28-b90c-42aa-cb79-ac6b9f8e48fa"
      },
      "outputs": [
        {
          "data": {
            "image/png": "[encoded data removed]",
            "text/plain": [
              "<Figure size 864x576 with 2 Axes>"
            ]
          },
          "metadata": {
            "needs_background": "light"
          },
          "output_type": "display_data"
        }
      ],
      "source": [
        "plt.figure(figsize=(12,8))\n",
        "sns.heatmap(df_con.corr('spearman'), annot = True)\n",
        "plt.show()"
      ]
    },
    {
      "cell_type": "markdown",
      "id": "70779149-bb76-4af1-8e92-967dbb3e05d4",
      "metadata": {
        "id": "70779149-bb76-4af1-8e92-967dbb3e05d4"
      },
      "source": [
        "> Dari heatmap diatas bisa kita lihat bahwa ada korelasi yang cukup kuat yaitu **pdays dengan previous**, lalu ada korelasi yg lemah yaitu **day dengan campaign**"
      ]
    },
    {
      "cell_type": "code",
      "execution_count": null,
      "id": "ad786d2d-b97c-4042-80ef-decb72113667",
      "metadata": {
        "id": "ad786d2d-b97c-4042-80ef-decb72113667",
        "outputId": "2bb1d46b-09e1-40a7-e460-da39c3fc2d64"
      },
      "outputs": [
        {
          "data": {
            "image/png": "[encoded data removed]",
            "text/plain": [
              "<Figure size 422.375x360 with 6 Axes>"
            ]
          },
          "metadata": {
            "needs_background": "light"
          },
          "output_type": "display_data"
        }
      ],
      "source": [
        "# pdays vs previous\n",
        "sns.pairplot(df_new[[\"pdays\", \"previous\", \"subscribed\"]], hue=\"subscribed\")\n",
        "plt.show()"
      ]
    },
    {
      "cell_type": "code",
      "execution_count": null,
      "id": "44a44dc0-eb9e-4d52-a2f5-085a07f135ac",
      "metadata": {
        "id": "44a44dc0-eb9e-4d52-a2f5-085a07f135ac",
        "outputId": "64af573e-f963-4684-b336-256c3add6596"
      },
      "outputs": [
        {
          "data": {
            "image/png": "[encoded data removed]",
            "text/plain": [
              "<Figure size 422.375x360 with 6 Axes>"
            ]
          },
          "metadata": {
            "needs_background": "light"
          },
          "output_type": "display_data"
        }
      ],
      "source": [
        "# day vs campaign\n",
        "sns.pairplot(df_new[[\"day\", \"campaign\", \"subscribed\"]], hue=\"subscribed\")\n",
        "plt.show()"
      ]
    },
    {
      "cell_type": "markdown",
      "id": "44da8285-6a38-4fe5-bb64-805c6e933207",
      "metadata": {
        "id": "44da8285-6a38-4fe5-bb64-805c6e933207"
      },
      "source": [
        "> Berdasarkan pairplot diatas bisa kita lihat bahwa pola penyebarannya masih belum mengikuti linear relationship (hubungan positif dan negatif).\n",
        "<br>\n",
        "> Pada feature previous juga terlihat adanya outlier"
      ]
    },
    {
      "cell_type": "code",
      "execution_count": null,
      "id": "ab78b225-bd03-4599-91fe-1831efe84052",
      "metadata": {
        "id": "ab78b225-bd03-4599-91fe-1831efe84052",
        "outputId": "46acceb5-ebf9-415b-a8ce-11930936e2ba"
      },
      "outputs": [
        {
          "data": {
            "text/plain": [
              "<AxesSubplot:xlabel='pdays', ylabel='previous'>"
            ]
          },
          "execution_count": 26,
          "metadata": {},
          "output_type": "execute_result"
        },
        {
          "data": {
            "image/png": "[encoded data removed]",
            "text/plain": [
              "<Figure size 432x288 with 1 Axes>"
            ]
          },
          "metadata": {
            "needs_background": "light"
          },
          "output_type": "display_data"
        }
      ],
      "source": [
        "sns.scatterplot(df[\"pdays\"], df[\"previous\"])"
      ]
    },
    {
      "cell_type": "markdown",
      "id": "b43e606e-31f6-4cd6-93d2-e5e085415136",
      "metadata": {
        "id": "b43e606e-31f6-4cd6-93d2-e5e085415136"
      },
      "source": [
        "> Outliers handling"
      ]
    },
    {
      "cell_type": "code",
      "execution_count": null,
      "id": "eb3aadb9-67be-4dba-913c-102d759e82ad",
      "metadata": {
        "id": "eb3aadb9-67be-4dba-913c-102d759e82ad",
        "outputId": "83eb3230-4cf1-4e30-8728-a70b4e432d52"
      },
      "outputs": [
        {
          "data": {
            "text/plain": [
              "29182    275\n",
              "Name: previous, dtype: int64"
            ]
          },
          "execution_count": 27,
          "metadata": {},
          "output_type": "execute_result"
        }
      ],
      "source": [
        "df_con[\"previous\"][df_con[\"previous\"] > 250]"
      ]
    },
    {
      "cell_type": "code",
      "execution_count": null,
      "id": "925be1af-01f6-4d6c-ab4e-958f33056ac7",
      "metadata": {
        "id": "925be1af-01f6-4d6c-ab4e-958f33056ac7"
      },
      "outputs": [],
      "source": [
        "df_con_new = df_con.drop([29182]) "
      ]
    },
    {
      "cell_type": "code",
      "execution_count": null,
      "id": "6d43c899-c7be-44b6-9c71-f588abae3281",
      "metadata": {
        "id": "6d43c899-c7be-44b6-9c71-f588abae3281",
        "outputId": "45a14bd6-9894-4190-cba0-121c6af7e75b"
      },
      "outputs": [
        {
          "data": {
            "text/plain": [
              "<AxesSubplot:xlabel='pdays', ylabel='previous'>"
            ]
          },
          "execution_count": 29,
          "metadata": {},
          "output_type": "execute_result"
        },
        {
          "data": {
            "image/png": "[encoded data removed]",
            "text/plain": [
              "<Figure size 432x288 with 1 Axes>"
            ]
          },
          "metadata": {
            "needs_background": "light"
          },
          "output_type": "display_data"
        }
      ],
      "source": [
        "sns.scatterplot(df_con_new[\"pdays\"], df_con_new[\"previous\"])"
      ]
    },
    {
      "cell_type": "markdown",
      "id": "61bc691f-c55c-4c48-b475-ded9dac7c40d",
      "metadata": {
        "id": "61bc691f-c55c-4c48-b475-ded9dac7c40d"
      },
      "source": [
        "> Setelah outlier dihandling juga pola penyebarannya masih belum mengikuti linear relationship."
      ]
    },
    {
      "cell_type": "markdown",
      "id": "0f5da470-48b2-4a4c-85ea-e3ab3bee5330",
      "metadata": {
        "id": "0f5da470-48b2-4a4c-85ea-e3ab3bee5330"
      },
      "source": [
        "> Selanjutnya kita akan mencoba untuk melihat distribusi masing masing featurenya"
      ]
    },
    {
      "cell_type": "code",
      "execution_count": null,
      "id": "f8bee44d-8b27-437b-8a68-5ba45afff4f7",
      "metadata": {
        "id": "f8bee44d-8b27-437b-8a68-5ba45afff4f7",
        "outputId": "6388caf7-03c8-494b-b6cd-265efa7c4847"
      },
      "outputs": [
        {
          "data": {
            "image/png": "[encoded data removed]",
            "text/plain": [
              "<Figure size 576x432 with 1 Axes>"
            ]
          },
          "metadata": {
            "needs_background": "light"
          },
          "output_type": "display_data"
        },
        {
          "data": {
            "image/png": "[encoded data removed]",
            "text/plain": [
              "<Figure size 576x432 with 1 Axes>"
            ]
          },
          "metadata": {
            "needs_background": "light"
          },
          "output_type": "display_data"
        },
        {
          "data": {
            "image/png": "[encoded data removed]",
            "text/plain": [
              "<Figure size 576x432 with 1 Axes>"
            ]
          },
          "metadata": {
            "needs_background": "light"
          },
          "output_type": "display_data"
        },
        {
          "data": {
            "image/png": "[encoded data removed]",
            "text/plain": [
              "<Figure size 576x432 with 1 Axes>"
            ]
          },
          "metadata": {
            "needs_background": "light"
          },
          "output_type": "display_data"
        },
        {
          "data": {
            "image/png": "[encoded data removed]",
            "text/plain": [
              "<Figure size 576x432 with 1 Axes>"
            ]
          },
          "metadata": {
            "needs_background": "light"
          },
          "output_type": "display_data"
        },
        {
          "data": {
            "image/png": "[encoded data removed]",
            "text/plain": [
              "<Figure size 576x432 with 1 Axes>"
            ]
          },
          "metadata": {
            "needs_background": "light"
          },
          "output_type": "display_data"
        },
        {
          "data": {
            "image/png": "[encoded data removed]",
            "text/plain": [
              "<Figure size 576x432 with 1 Axes>"
            ]
          },
          "metadata": {
            "needs_background": "light"
          },
          "output_type": "display_data"
        }
      ],
      "source": [
        "for i in df_con.columns:\n",
        "    plt.figure(figsize = (8,6))\n",
        "    ax = sns.distplot(df_new[(df_new['subscribed'] == 'no')][i])\n",
        "    ax = sns.distplot(df_new[(df_new['subscribed'] == 'yes')][i])\n",
        "    \n",
        "    ax.legend(['No', 'Yes'])\n",
        "    \n",
        "    plt.xlabel(i, fontsize = 12)\n",
        "    plt.title('Distribution of subscribed by ' + i, fontsize = 22)\n",
        "    \n",
        "    plt.tight_layout()\n",
        "    plt.show()"
      ]
    },
    {
      "cell_type": "markdown",
      "id": "de78e1cd-0eda-427f-9c20-9218bd406194",
      "metadata": {
        "id": "de78e1cd-0eda-427f-9c20-9218bd406194"
      },
      "source": [
        "> Kita akan coba mengeksplor lebih rinci terkait informasi dari distribusi plot diatas"
      ]
    },
    {
      "cell_type": "markdown",
      "id": "11501e88-c09a-4e7a-9a17-3576dd95712d",
      "metadata": {
        "id": "11501e88-c09a-4e7a-9a17-3576dd95712d"
      },
      "source": [
        "> - Age, pada age ini terlihat umur client yg melakukan dan tidak melakukan deposit itu bervariasi dari umur 30 - 35 tahun.<br> Terlihat tidak ada perbedaan yg signifikan antara client yg melakukan deposit dan client yg tidak melakukan deposit.<br> Bisa kita lihat client yg tidak melakukan deposit ialah client yg berada pada rentang umur 31 - 35 tahun."
      ]
    },
    {
      "cell_type": "code",
      "execution_count": null,
      "id": "8bba8327-bef3-47eb-986b-7b5a261dc6eb",
      "metadata": {
        "id": "8bba8327-bef3-47eb-986b-7b5a261dc6eb",
        "outputId": "d05410bd-47f3-4ab9-f1b2-8e30d7000961"
      },
      "outputs": [
        {
          "data": {
            "text/plain": [
              "32    221\n",
              "30    217\n",
              "33    210\n",
              "35    209\n",
              "31    206\n",
              "Name: age, dtype: int64"
            ]
          },
          "execution_count": 31,
          "metadata": {},
          "output_type": "execute_result"
        }
      ],
      "source": [
        "df_con['age'][df_new['subscribed']=='yes'].value_counts().head()"
      ]
    },
    {
      "cell_type": "code",
      "execution_count": null,
      "id": "3f6f598d-f2be-4a85-8772-84a73deb9b5c",
      "metadata": {
        "id": "3f6f598d-f2be-4a85-8772-84a73deb9b5c",
        "outputId": "a6feca66-fe82-4531-f5e9-f628820b9385"
      },
      "outputs": [
        {
          "data": {
            "text/plain": [
              "32    1864\n",
              "31    1790\n",
              "33    1762\n",
              "34    1732\n",
              "35    1685\n",
              "Name: age, dtype: int64"
            ]
          },
          "execution_count": 32,
          "metadata": {},
          "output_type": "execute_result"
        }
      ],
      "source": [
        "df_con['age'][df_new['subscribed']=='no'].value_counts().head()"
      ]
    },
    {
      "cell_type": "markdown",
      "id": "0622f3df-f41a-4310-8942-fd8acfa664a9",
      "metadata": {
        "id": "0622f3df-f41a-4310-8942-fd8acfa664a9"
      },
      "source": [
        "> - Balance, pada balance ini terlihat bahwa client yg melakukan deposit itu memiliki balance yg lebih banyak dibandingkan dengan client yg tidak melakukan deposit.<br>\n",
        "Dimana hal tersebut bisa kita lihat, client yg melakukan deposit memiliki balance diantara 0 - 2557 euros, sedangkan yg tidak melakukan deposit memiliki balance diantara 0 - 8 euros"
      ]
    },
    {
      "cell_type": "code",
      "execution_count": null,
      "id": "69eb15b3-2f71-46bc-93ff-fa9ae63555f4",
      "metadata": {
        "id": "69eb15b3-2f71-46bc-93ff-fa9ae63555f4",
        "outputId": "f44f34bb-af23-430f-96d7-879298f1bf70"
      },
      "outputs": [
        {
          "data": {
            "text/plain": [
              "0       292\n",
              "1        17\n",
              "2        16\n",
              "5        15\n",
              "294      12\n",
              "3        12\n",
              "2557     11\n",
              "4        11\n",
              "Name: balance, dtype: int64"
            ]
          },
          "execution_count": 33,
          "metadata": {},
          "output_type": "execute_result"
        }
      ],
      "source": [
        "df_con['balance'][df_new['subscribed']=='yes'].value_counts().head(8)"
      ]
    },
    {
      "cell_type": "code",
      "execution_count": null,
      "id": "75567c75-4c9b-4809-9342-4ec5bc4c83a7",
      "metadata": {
        "id": "75567c75-4c9b-4809-9342-4ec5bc4c83a7",
        "outputId": "3e3f3a75-ad30-4efe-ea21-17644a23a2d2"
      },
      "outputs": [
        {
          "data": {
            "text/plain": [
              "0    3222\n",
              "1     178\n",
              "2     140\n",
              "4     128\n",
              "3     122\n",
              "5      98\n",
              "6      82\n",
              "8      77\n",
              "Name: balance, dtype: int64"
            ]
          },
          "execution_count": 34,
          "metadata": {},
          "output_type": "execute_result"
        }
      ],
      "source": [
        "df_con['balance'][df_new['subscribed']=='no'].value_counts().head(8)"
      ]
    },
    {
      "cell_type": "markdown",
      "id": "1f6dd920-1486-4d4f-85d4-66a6df70da1d",
      "metadata": {
        "id": "1f6dd920-1486-4d4f-85d4-66a6df70da1d"
      },
      "source": [
        "> - Day, pada day ini bisa kita lihat bahwa client dikontak terakhir kali itu bervariasi, day tertinggi untuk client yg tidak melakukan deposit berada pada day ke 20."
      ]
    },
    {
      "cell_type": "code",
      "execution_count": null,
      "id": "31d4d73f-e66c-418d-8a72-888edd0bfcf0",
      "metadata": {
        "id": "31d4d73f-e66c-418d-8a72-888edd0bfcf0",
        "outputId": "a6c822dd-d3d1-451c-bd5b-d75c55542908"
      },
      "outputs": [
        {
          "data": {
            "text/plain": [
              "30    271\n",
              "12    244\n",
              "13    241\n",
              "15    238\n",
              "4     230\n",
              "Name: day, dtype: int64"
            ]
          },
          "execution_count": 35,
          "metadata": {},
          "output_type": "execute_result"
        }
      ],
      "source": [
        "df_con['day'][df_new['subscribed']=='yes'].value_counts().head()"
      ]
    },
    {
      "cell_type": "code",
      "execution_count": null,
      "id": "ee1942d2-3d9f-4a8a-9089-52e79fa4b8f1",
      "metadata": {
        "id": "ee1942d2-3d9f-4a8a-9089-52e79fa4b8f1",
        "outputId": "6331d618-30c1-4b8b-b7ce-21b6be5dc2ba"
      },
      "outputs": [
        {
          "data": {
            "text/plain": [
              "20    2560\n",
              "18    2080\n",
              "21    1825\n",
              "17    1763\n",
              "6     1751\n",
              "Name: day, dtype: int64"
            ]
          },
          "execution_count": 36,
          "metadata": {},
          "output_type": "execute_result"
        }
      ],
      "source": [
        "df_con['day'][df_new['subscribed']=='no'].value_counts().head()"
      ]
    },
    {
      "cell_type": "markdown",
      "id": "4d342dc3-2606-4cdf-8d3f-aa73cd19fb32",
      "metadata": {
        "id": "4d342dc3-2606-4cdf-8d3f-aa73cd19fb32"
      },
      "source": [
        "> - Duration, duration ini adalah durasi lamanya client dikontak dalam satuan detik.<br>\n",
        "Bisa kita lihat bahwa durationnya itu bervariasi, tetapi untuk client yg melakukan deposit itu tertinggi berada di 301 detik, sedangkan client yg tidak melakukan deposit itu paling tinggi di 124 detik, dimana disini bisa kita tarik kesimpulan bahwa rata rata client yg deposit itu memiliki duration yg lebih tinggi daripada client yg tidak melakukan deposit. Mungkin karna client yg melakukan deposit tersebut memiliki ketertarikan sehingga durasinya menjadi lama."
      ]
    },
    {
      "cell_type": "code",
      "execution_count": null,
      "id": "7b754775-b4ff-4eea-a69f-dbc85bbd3994",
      "metadata": {
        "id": "7b754775-b4ff-4eea-a69f-dbc85bbd3994",
        "outputId": "0fd5f1ef-68ab-4012-b58b-e6ffc6599029"
      },
      "outputs": [
        {
          "data": {
            "text/plain": [
              "261    19\n",
              "226    17\n",
              "229    16\n",
              "232    16\n",
              "187    16\n",
              "268    15\n",
              "158    15\n",
              "301    15\n",
              "Name: duration, dtype: int64"
            ]
          },
          "execution_count": 37,
          "metadata": {},
          "output_type": "execute_result"
        }
      ],
      "source": [
        "df_con['duration'][df_new['subscribed']=='yes'].value_counts().head(8)"
      ]
    },
    {
      "cell_type": "code",
      "execution_count": null,
      "id": "1f61d02d-4cc6-4a93-8da1-29da4828fb95",
      "metadata": {
        "id": "1f61d02d-4cc6-4a93-8da1-29da4828fb95",
        "outputId": "24f0b970-9b06-46bb-c2f0-ed6bed07035e"
      },
      "outputs": [
        {
          "data": {
            "text/plain": [
              "124    182\n",
              "90     181\n",
              "114    171\n",
              "89     170\n",
              "104    169\n",
              "88     169\n",
              "112    169\n",
              "121    169\n",
              "Name: duration, dtype: int64"
            ]
          },
          "execution_count": 38,
          "metadata": {},
          "output_type": "execute_result"
        }
      ],
      "source": [
        "df_con['duration'][df_new['subscribed']=='no'].value_counts().head(8)"
      ]
    },
    {
      "cell_type": "markdown",
      "id": "e90e8e11-d492-4eab-bc18-64dbf51a6903",
      "metadata": {
        "id": "e90e8e11-d492-4eab-bc18-64dbf51a6903"
      },
      "source": [
        "> - Campaign, campaign ini adalah banyaknya kontak yg telah dilakukan kepada client tersebut selama masa campaign.<br>\n",
        "Bisa kita lihat campaign tertinggi pada client yg melakukan deposit dan client yg tidak itu hanya dikontak 1x saja pada masa campaign."
      ]
    },
    {
      "cell_type": "code",
      "execution_count": null,
      "id": "b1ae5221-4c9a-4111-b0d9-5617ecdfc419",
      "metadata": {
        "id": "b1ae5221-4c9a-4111-b0d9-5617ecdfc419",
        "outputId": "c1f81ed4-f3d4-43e4-c9d1-f34f10eee501"
      },
      "outputs": [
        {
          "data": {
            "text/plain": [
              "1    2561\n",
              "2    1401\n",
              "3     618\n",
              "4     317\n",
              "5     139\n",
              "Name: campaign, dtype: int64"
            ]
          },
          "execution_count": 39,
          "metadata": {},
          "output_type": "execute_result"
        }
      ],
      "source": [
        "df_con['campaign'][df_new['subscribed']=='yes'].value_counts().head()"
      ]
    },
    {
      "cell_type": "code",
      "execution_count": null,
      "id": "b43b6301-5140-4c48-8815-480703cdd6e3",
      "metadata": {
        "id": "b43b6301-5140-4c48-8815-480703cdd6e3",
        "outputId": "547682a6-3a2e-4216-80ed-c810d0aac4d5"
      },
      "outputs": [
        {
          "data": {
            "text/plain": [
              "1    14983\n",
              "2    11104\n",
              "3     4903\n",
              "4     3205\n",
              "5     1625\n",
              "Name: campaign, dtype: int64"
            ]
          },
          "execution_count": 40,
          "metadata": {},
          "output_type": "execute_result"
        }
      ],
      "source": [
        "df_con['campaign'][df_new['subscribed']=='no'].value_counts().head()"
      ]
    },
    {
      "cell_type": "markdown",
      "id": "4dd48499-1795-4dec-a88b-539171579206",
      "metadata": {
        "id": "4dd48499-1795-4dec-a88b-539171579206"
      },
      "source": [
        "> - Pdays, pdays ini ialah sudah berapa hari berlalu sejak terakhir kali customer dikontak. <br>\n",
        "(-1) artinya client belum dikontak sama sekali.<br>Berarti bisa kita simpulkan dari pdays ini bahwa banyak client yg melakukan deposit dan juga banyak client yg tidak melakukan deposit belum dikontak sama sekali."
      ]
    },
    {
      "cell_type": "code",
      "execution_count": null,
      "id": "92f77769-a3aa-4067-bbd9-4a27e7131ddd",
      "metadata": {
        "id": "92f77769-a3aa-4067-bbd9-4a27e7131ddd",
        "outputId": "2134b595-a030-46d5-ad3f-adf3dc865333"
      },
      "outputs": [
        {
          "data": {
            "text/plain": [
              "-1      3384\n",
              " 92       96\n",
              " 182      80\n",
              " 91       75\n",
              " 181      74\n",
              "Name: pdays, dtype: int64"
            ]
          },
          "execution_count": 41,
          "metadata": {},
          "output_type": "execute_result"
        }
      ],
      "source": [
        "df_con['pdays'][df_new['subscribed']=='yes'].value_counts().head()"
      ]
    },
    {
      "cell_type": "code",
      "execution_count": null,
      "id": "f7ae449e-edce-47b4-b9d2-4a966e88fb6d",
      "metadata": {
        "id": "f7ae449e-edce-47b4-b9d2-4a966e88fb6d",
        "outputId": "7e5e37d0-c719-4708-a716-0d47bfc53770"
      },
      "outputs": [
        {
          "data": {
            "text/plain": [
              "-1      33570\n",
              " 370       90\n",
              " 182       87\n",
              " 364       73\n",
              " 350       68\n",
              "Name: pdays, dtype: int64"
            ]
          },
          "execution_count": 42,
          "metadata": {},
          "output_type": "execute_result"
        }
      ],
      "source": [
        "df_con['pdays'][df_new['subscribed']=='no'].value_counts().head()"
      ]
    },
    {
      "cell_type": "markdown",
      "id": "7e990bb7-0142-4850-8157-34be997e356d",
      "metadata": {
        "id": "7e990bb7-0142-4850-8157-34be997e356d"
      },
      "source": [
        "> - Previous, previous ini mirip dengan campaign. <br>\n",
        "Dimana previous ini ialah banyaknya kontak yg telah dilakukan kepada client tersebut sebelum masa campaign.<br>\n",
        "Disini bisa kita lihat kebanyakan client yg melakukan deposit dan client yg tidak melakukan deposit itu belum dikontak sama sekali."
      ]
    },
    {
      "cell_type": "code",
      "execution_count": null,
      "id": "41757c26-4d70-4a13-a7cc-8521ba8fd326",
      "metadata": {
        "id": "41757c26-4d70-4a13-a7cc-8521ba8fd326",
        "outputId": "6b7c43fe-9af5-4c07-9510-34699b0e3bc3"
      },
      "outputs": [
        {
          "data": {
            "text/plain": [
              "0    3384\n",
              "1     583\n",
              "2     456\n",
              "3     294\n",
              "4     171\n",
              "Name: previous, dtype: int64"
            ]
          },
          "execution_count": 43,
          "metadata": {},
          "output_type": "execute_result"
        }
      ],
      "source": [
        "df_con['previous'][df_new['subscribed']=='yes'].value_counts().head()"
      ]
    },
    {
      "cell_type": "code",
      "execution_count": null,
      "id": "b5eea93d-cf3e-41a7-a04f-e71c29516b76",
      "metadata": {
        "id": "b5eea93d-cf3e-41a7-a04f-e71c29516b76",
        "outputId": "8564ccd1-d82d-4f1d-da5e-dc97f95264b4"
      },
      "outputs": [
        {
          "data": {
            "text/plain": [
              "0    33570\n",
              "1     2189\n",
              "2     1650\n",
              "3      848\n",
              "4      543\n",
              "Name: previous, dtype: int64"
            ]
          },
          "execution_count": 44,
          "metadata": {},
          "output_type": "execute_result"
        }
      ],
      "source": [
        "df_con['previous'][df_new['subscribed']=='no'].value_counts().head()"
      ]
    },
    {
      "cell_type": "markdown",
      "id": "0a080751-064e-4217-b3ea-4fb713936e76",
      "metadata": {
        "id": "0a080751-064e-4217-b3ea-4fb713936e76"
      },
      "source": [
        "## CATEGORICAL FEATURES"
      ]
    },
    {
      "cell_type": "code",
      "execution_count": null,
      "id": "e9b7eed3-feff-44c4-920e-f411f1bce859",
      "metadata": {
        "id": "e9b7eed3-feff-44c4-920e-f411f1bce859"
      },
      "outputs": [],
      "source": [
        "# Cramer's V measures the relation between two variables in categorical scale.\n",
        "def cramersv(x, y):\n",
        "    confusion_matrix = pd.crosstab(x,y)\n",
        "    chi2 = ss.chi2_contingency(confusion_matrix)[0]\n",
        "    n = confusion_matrix.sum().sum()\n",
        "    phi2 = chi2/n\n",
        "    r,k = confusion_matrix.shape\n",
        "    phi2corr = max(0, phi2-((k-1)*(r-1))/(n-1))\n",
        "    rcorr = r - ((r-1)**2)/(n-1)\n",
        "    kcorr = k - ((k-1)**2)/(n-1)\n",
        "    return np.sqrt(phi2corr/min((kcorr-1),(rcorr-1)))"
      ]
    },
    {
      "cell_type": "code",
      "execution_count": null,
      "id": "d8634fff-3d4d-4dad-9383-19829efa50bf",
      "metadata": {
        "tags": [],
        "id": "d8634fff-3d4d-4dad-9383-19829efa50bf"
      },
      "outputs": [],
      "source": [
        "corr = []\n",
        "for i in df_cat:\n",
        "    matrix = []\n",
        "    for j in df_new.select_dtypes(['object']):\n",
        "        matrix.append(cramersv(df_new.select_dtypes(['object'])[i], df_new.select_dtypes(['object'])[j]))\n",
        "    corr.append(matrix)\n",
        "\n",
        "corr_cat = pd.DataFrame(corr, index = df_new.select_dtypes(['object']).columns, columns = df_new.select_dtypes(['object']).columns)"
      ]
    },
    {
      "cell_type": "code",
      "execution_count": null,
      "id": "3788bcb0-7ffa-4fd2-9390-197e748bdf31",
      "metadata": {
        "id": "3788bcb0-7ffa-4fd2-9390-197e748bdf31",
        "outputId": "04debc47-1198-4bac-fc09-a522bb009e4f"
      },
      "outputs": [
        {
          "data": {
            "image/png": "[encoded data removed]",
            "text/plain": [
              "<Figure size 864x576 with 2 Axes>"
            ]
          },
          "metadata": {
            "needs_background": "light"
          },
          "output_type": "display_data"
        }
      ],
      "source": [
        "plt.figure(figsize=(12,8))\n",
        "sns.heatmap(corr_cat, annot = True)\n",
        "plt.show()"
      ]
    },
    {
      "cell_type": "markdown",
      "id": "50354baf-e40b-4592-9b54-b67a211505c2",
      "metadata": {
        "id": "50354baf-e40b-4592-9b54-b67a211505c2"
      },
      "source": [
        "> Melalui heatmap diatas yg kita dapat setelah menggunakan cramers'v, bisa kita lihat ada korelasi yg sedang yaitu **job dengan education**, **housing dengan month**, dan **contact dengan month**.Juga ada korelasi yg cukup rendah yaitu **job dengan housing**, **job dengan marital** dan **housing dengan contact**"
      ]
    },
    {
      "cell_type": "markdown",
      "id": "1428f145-8f41-47f0-b953-c36e383bc1fc",
      "metadata": {
        "id": "1428f145-8f41-47f0-b953-c36e383bc1fc"
      },
      "source": [
        "> Selanjutnya saya akan menunjukkan hubungan antara features ini menggunakan pd.crosstab()"
      ]
    },
    {
      "cell_type": "code",
      "execution_count": null,
      "id": "15bbddb7-ed9b-4169-8e2a-a82c65678ba7",
      "metadata": {
        "id": "15bbddb7-ed9b-4169-8e2a-a82c65678ba7",
        "outputId": "ae7e8d2f-dfa8-4e52-8f6f-d639e28e6df0"
      },
      "outputs": [
        {
          "data": {
            "text/html": [
              "<div>\n",
              "<style scoped>\n",
              "    .dataframe tbody tr th:only-of-type {\n",
              "        vertical-align: middle;\n",
              "    }\n",
              "\n",
              "    .dataframe tbody tr th {\n",
              "        vertical-align: top;\n",
              "    }\n",
              "\n",
              "    .dataframe thead th {\n",
              "        text-align: right;\n",
              "    }\n",
              "</style>\n",
              "<table border=\"1\" class=\"dataframe\">\n",
              "  <thead>\n",
              "    <tr style=\"text-align: right;\">\n",
              "      <th>education</th>\n",
              "      <th>primary</th>\n",
              "      <th>secondary</th>\n",
              "      <th>tertiary</th>\n",
              "      <th>unknown</th>\n",
              "    </tr>\n",
              "    <tr>\n",
              "      <th>job</th>\n",
              "      <th></th>\n",
              "      <th></th>\n",
              "      <th></th>\n",
              "      <th></th>\n",
              "    </tr>\n",
              "  </thead>\n",
              "  <tbody>\n",
              "    <tr>\n",
              "      <th>admin.</th>\n",
              "      <td>0.030506</td>\n",
              "      <td>0.181838</td>\n",
              "      <td>0.043004</td>\n",
              "      <td>0.092084</td>\n",
              "    </tr>\n",
              "    <tr>\n",
              "      <th>blue-collar</th>\n",
              "      <td>0.548533</td>\n",
              "      <td>0.231489</td>\n",
              "      <td>0.011202</td>\n",
              "      <td>0.244480</td>\n",
              "    </tr>\n",
              "    <tr>\n",
              "      <th>entrepreneur</th>\n",
              "      <td>0.026711</td>\n",
              "      <td>0.023360</td>\n",
              "      <td>0.051575</td>\n",
              "      <td>0.040926</td>\n",
              "    </tr>\n",
              "    <tr>\n",
              "      <th>housemaid</th>\n",
              "      <td>0.091519</td>\n",
              "      <td>0.017024</td>\n",
              "      <td>0.013007</td>\n",
              "      <td>0.024233</td>\n",
              "    </tr>\n",
              "    <tr>\n",
              "      <th>management</th>\n",
              "      <td>0.042913</td>\n",
              "      <td>0.048315</td>\n",
              "      <td>0.586497</td>\n",
              "      <td>0.130318</td>\n",
              "    </tr>\n",
              "    <tr>\n",
              "      <th>retired</th>\n",
              "      <td>0.116041</td>\n",
              "      <td>0.042410</td>\n",
              "      <td>0.027517</td>\n",
              "      <td>0.064082</td>\n",
              "    </tr>\n",
              "    <tr>\n",
              "      <th>self-employed</th>\n",
              "      <td>0.018975</td>\n",
              "      <td>0.024869</td>\n",
              "      <td>0.062627</td>\n",
              "      <td>0.021002</td>\n",
              "    </tr>\n",
              "    <tr>\n",
              "      <th>services</th>\n",
              "      <td>0.050358</td>\n",
              "      <td>0.148996</td>\n",
              "      <td>0.015187</td>\n",
              "      <td>0.080775</td>\n",
              "    </tr>\n",
              "    <tr>\n",
              "      <th>student</th>\n",
              "      <td>0.006422</td>\n",
              "      <td>0.021895</td>\n",
              "      <td>0.016766</td>\n",
              "      <td>0.087776</td>\n",
              "    </tr>\n",
              "    <tr>\n",
              "      <th>technician</th>\n",
              "      <td>0.023062</td>\n",
              "      <td>0.225369</td>\n",
              "      <td>0.147959</td>\n",
              "      <td>0.130318</td>\n",
              "    </tr>\n",
              "    <tr>\n",
              "      <th>unemployed</th>\n",
              "      <td>0.037513</td>\n",
              "      <td>0.031377</td>\n",
              "      <td>0.021728</td>\n",
              "      <td>0.015617</td>\n",
              "    </tr>\n",
              "    <tr>\n",
              "      <th>unknown</th>\n",
              "      <td>0.007444</td>\n",
              "      <td>0.003060</td>\n",
              "      <td>0.002932</td>\n",
              "      <td>0.068390</td>\n",
              "    </tr>\n",
              "  </tbody>\n",
              "</table>\n",
              "</div>"
            ],
            "text/plain": [
              "education       primary  secondary  tertiary   unknown\n",
              "job                                                   \n",
              "admin.         0.030506   0.181838  0.043004  0.092084\n",
              "blue-collar    0.548533   0.231489  0.011202  0.244480\n",
              "entrepreneur   0.026711   0.023360  0.051575  0.040926\n",
              "housemaid      0.091519   0.017024  0.013007  0.024233\n",
              "management     0.042913   0.048315  0.586497  0.130318\n",
              "retired        0.116041   0.042410  0.027517  0.064082\n",
              "self-employed  0.018975   0.024869  0.062627  0.021002\n",
              "services       0.050358   0.148996  0.015187  0.080775\n",
              "student        0.006422   0.021895  0.016766  0.087776\n",
              "technician     0.023062   0.225369  0.147959  0.130318\n",
              "unemployed     0.037513   0.031377  0.021728  0.015617\n",
              "unknown        0.007444   0.003060  0.002932  0.068390"
            ]
          },
          "execution_count": 48,
          "metadata": {},
          "output_type": "execute_result"
        }
      ],
      "source": [
        "pd.crosstab(df_cat['job'], df_cat['education'], normalize = 'columns')"
      ]
    },
    {
      "cell_type": "markdown",
      "id": "2f8ce344-fd55-4c20-a03d-a1486ad6f131",
      "metadata": {
        "id": "2f8ce344-fd55-4c20-a03d-a1486ad6f131"
      },
      "source": [
        "> Dari crosstab( ) ini menurut saya sudah jelas. <br>\n",
        "Contohnya bisa kita lihat pada crosstab (tabulasi silang) diatas bahwa 54% client yg bekerja sebagai blue-collar itu memiliki level pendidikan primary, untuk client dengan pekerjaan admin 18% nya memiliki pendidikan dengan level secondary, begitu juga untuk yg lainnya."
      ]
    },
    {
      "cell_type": "code",
      "execution_count": null,
      "id": "3d4b3f13-9c62-4f25-9c48-6012db074a7a",
      "metadata": {
        "id": "3d4b3f13-9c62-4f25-9c48-6012db074a7a",
        "outputId": "92e4a108-e36e-42e7-bcdb-5768c8c47f94"
      },
      "outputs": [
        {
          "data": {
            "text/html": [
              "<div>\n",
              "<style scoped>\n",
              "    .dataframe tbody tr th:only-of-type {\n",
              "        vertical-align: middle;\n",
              "    }\n",
              "\n",
              "    .dataframe tbody tr th {\n",
              "        vertical-align: top;\n",
              "    }\n",
              "\n",
              "    .dataframe thead th {\n",
              "        text-align: right;\n",
              "    }\n",
              "</style>\n",
              "<table border=\"1\" class=\"dataframe\">\n",
              "  <thead>\n",
              "    <tr style=\"text-align: right;\">\n",
              "      <th>month</th>\n",
              "      <th>apr</th>\n",
              "      <th>aug</th>\n",
              "      <th>dec</th>\n",
              "      <th>feb</th>\n",
              "      <th>jan</th>\n",
              "      <th>jul</th>\n",
              "      <th>jun</th>\n",
              "      <th>mar</th>\n",
              "      <th>may</th>\n",
              "      <th>nov</th>\n",
              "      <th>oct</th>\n",
              "      <th>sep</th>\n",
              "    </tr>\n",
              "    <tr>\n",
              "      <th>housing</th>\n",
              "      <th></th>\n",
              "      <th></th>\n",
              "      <th></th>\n",
              "      <th></th>\n",
              "      <th></th>\n",
              "      <th></th>\n",
              "      <th></th>\n",
              "      <th></th>\n",
              "      <th></th>\n",
              "      <th></th>\n",
              "      <th></th>\n",
              "      <th></th>\n",
              "    </tr>\n",
              "  </thead>\n",
              "  <tbody>\n",
              "    <tr>\n",
              "      <th>no</th>\n",
              "      <td>0.294338</td>\n",
              "      <td>0.823435</td>\n",
              "      <td>0.808411</td>\n",
              "      <td>0.572669</td>\n",
              "      <td>0.628653</td>\n",
              "      <td>0.515881</td>\n",
              "      <td>0.583037</td>\n",
              "      <td>0.763103</td>\n",
              "      <td>0.122766</td>\n",
              "      <td>0.442317</td>\n",
              "      <td>0.773713</td>\n",
              "      <td>0.777202</td>\n",
              "    </tr>\n",
              "    <tr>\n",
              "      <th>yes</th>\n",
              "      <td>0.705662</td>\n",
              "      <td>0.176565</td>\n",
              "      <td>0.191589</td>\n",
              "      <td>0.427331</td>\n",
              "      <td>0.371347</td>\n",
              "      <td>0.484119</td>\n",
              "      <td>0.416963</td>\n",
              "      <td>0.236897</td>\n",
              "      <td>0.877234</td>\n",
              "      <td>0.557683</td>\n",
              "      <td>0.226287</td>\n",
              "      <td>0.222798</td>\n",
              "    </tr>\n",
              "  </tbody>\n",
              "</table>\n",
              "</div>"
            ],
            "text/plain": [
              "month         apr       aug       dec       feb       jan       jul       jun  \\\n",
              "housing                                                                         \n",
              "no       0.294338  0.823435  0.808411  0.572669  0.628653  0.515881  0.583037   \n",
              "yes      0.705662  0.176565  0.191589  0.427331  0.371347  0.484119  0.416963   \n",
              "\n",
              "month         mar       may       nov       oct       sep  \n",
              "housing                                                    \n",
              "no       0.763103  0.122766  0.442317  0.773713  0.777202  \n",
              "yes      0.236897  0.877234  0.557683  0.226287  0.222798  "
            ]
          },
          "execution_count": 49,
          "metadata": {},
          "output_type": "execute_result"
        }
      ],
      "source": [
        "pd.crosstab(df_cat['housing'], df_cat['month'], normalize = 'columns')"
      ]
    },
    {
      "cell_type": "code",
      "execution_count": null,
      "id": "9c9a4006-d644-4724-ba1f-833c7a4d7bd3",
      "metadata": {
        "id": "9c9a4006-d644-4724-ba1f-833c7a4d7bd3",
        "outputId": "33dcbafb-3fdb-4dc7-dd37-30c1cad08d42"
      },
      "outputs": [
        {
          "data": {
            "text/html": [
              "<div>\n",
              "<style scoped>\n",
              "    .dataframe tbody tr th:only-of-type {\n",
              "        vertical-align: middle;\n",
              "    }\n",
              "\n",
              "    .dataframe tbody tr th {\n",
              "        vertical-align: top;\n",
              "    }\n",
              "\n",
              "    .dataframe thead th {\n",
              "        text-align: right;\n",
              "    }\n",
              "</style>\n",
              "<table border=\"1\" class=\"dataframe\">\n",
              "  <thead>\n",
              "    <tr style=\"text-align: right;\">\n",
              "      <th>month</th>\n",
              "      <th>apr</th>\n",
              "      <th>aug</th>\n",
              "      <th>dec</th>\n",
              "      <th>feb</th>\n",
              "      <th>jan</th>\n",
              "      <th>jul</th>\n",
              "      <th>jun</th>\n",
              "      <th>mar</th>\n",
              "      <th>may</th>\n",
              "      <th>nov</th>\n",
              "      <th>oct</th>\n",
              "      <th>sep</th>\n",
              "    </tr>\n",
              "    <tr>\n",
              "      <th>contact</th>\n",
              "      <th></th>\n",
              "      <th></th>\n",
              "      <th></th>\n",
              "      <th></th>\n",
              "      <th></th>\n",
              "      <th></th>\n",
              "      <th></th>\n",
              "      <th></th>\n",
              "      <th></th>\n",
              "      <th></th>\n",
              "      <th></th>\n",
              "      <th></th>\n",
              "    </tr>\n",
              "  </thead>\n",
              "  <tbody>\n",
              "    <tr>\n",
              "      <th>cellular</th>\n",
              "      <td>0.930082</td>\n",
              "      <td>0.952457</td>\n",
              "      <td>0.813084</td>\n",
              "      <td>0.891657</td>\n",
              "      <td>0.901639</td>\n",
              "      <td>0.836403</td>\n",
              "      <td>0.136491</td>\n",
              "      <td>0.874214</td>\n",
              "      <td>0.387258</td>\n",
              "      <td>0.891688</td>\n",
              "      <td>0.754743</td>\n",
              "      <td>0.804836</td>\n",
              "    </tr>\n",
              "    <tr>\n",
              "      <th>telephone</th>\n",
              "      <td>0.067872</td>\n",
              "      <td>0.039379</td>\n",
              "      <td>0.172897</td>\n",
              "      <td>0.103435</td>\n",
              "      <td>0.091946</td>\n",
              "      <td>0.123568</td>\n",
              "      <td>0.014978</td>\n",
              "      <td>0.111111</td>\n",
              "      <td>0.033416</td>\n",
              "      <td>0.095466</td>\n",
              "      <td>0.177507</td>\n",
              "      <td>0.113990</td>\n",
              "    </tr>\n",
              "    <tr>\n",
              "      <th>unknown</th>\n",
              "      <td>0.002046</td>\n",
              "      <td>0.008164</td>\n",
              "      <td>0.014019</td>\n",
              "      <td>0.004908</td>\n",
              "      <td>0.006415</td>\n",
              "      <td>0.040029</td>\n",
              "      <td>0.848530</td>\n",
              "      <td>0.014675</td>\n",
              "      <td>0.579326</td>\n",
              "      <td>0.012846</td>\n",
              "      <td>0.067751</td>\n",
              "      <td>0.081174</td>\n",
              "    </tr>\n",
              "  </tbody>\n",
              "</table>\n",
              "</div>"
            ],
            "text/plain": [
              "month           apr       aug       dec       feb       jan       jul  \\\n",
              "contact                                                                 \n",
              "cellular   0.930082  0.952457  0.813084  0.891657  0.901639  0.836403   \n",
              "telephone  0.067872  0.039379  0.172897  0.103435  0.091946  0.123568   \n",
              "unknown    0.002046  0.008164  0.014019  0.004908  0.006415  0.040029   \n",
              "\n",
              "month           jun       mar       may       nov       oct       sep  \n",
              "contact                                                                \n",
              "cellular   0.136491  0.874214  0.387258  0.891688  0.754743  0.804836  \n",
              "telephone  0.014978  0.111111  0.033416  0.095466  0.177507  0.113990  \n",
              "unknown    0.848530  0.014675  0.579326  0.012846  0.067751  0.081174  "
            ]
          },
          "execution_count": 50,
          "metadata": {},
          "output_type": "execute_result"
        }
      ],
      "source": [
        "pd.crosstab(df_cat['contact'], df_cat['month'], normalize = 'columns')"
      ]
    },
    {
      "cell_type": "code",
      "execution_count": null,
      "id": "d3c840f6-7e8d-437a-b7f4-98c89084edfa",
      "metadata": {
        "id": "d3c840f6-7e8d-437a-b7f4-98c89084edfa",
        "outputId": "2fec5871-60c2-470c-997f-2cdc1e47b86a"
      },
      "outputs": [
        {
          "data": {
            "text/html": [
              "<div>\n",
              "<style scoped>\n",
              "    .dataframe tbody tr th:only-of-type {\n",
              "        vertical-align: middle;\n",
              "    }\n",
              "\n",
              "    .dataframe tbody tr th {\n",
              "        vertical-align: top;\n",
              "    }\n",
              "\n",
              "    .dataframe thead th {\n",
              "        text-align: right;\n",
              "    }\n",
              "</style>\n",
              "<table border=\"1\" class=\"dataframe\">\n",
              "  <thead>\n",
              "    <tr style=\"text-align: right;\">\n",
              "      <th>housing</th>\n",
              "      <th>no</th>\n",
              "      <th>yes</th>\n",
              "    </tr>\n",
              "    <tr>\n",
              "      <th>job</th>\n",
              "      <th></th>\n",
              "      <th></th>\n",
              "    </tr>\n",
              "  </thead>\n",
              "  <tbody>\n",
              "    <tr>\n",
              "      <th>admin.</th>\n",
              "      <td>0.099049</td>\n",
              "      <td>0.126622</td>\n",
              "    </tr>\n",
              "    <tr>\n",
              "      <th>blue-collar</th>\n",
              "      <td>0.133659</td>\n",
              "      <td>0.280462</td>\n",
              "    </tr>\n",
              "    <tr>\n",
              "      <th>entrepreneur</th>\n",
              "      <td>0.030775</td>\n",
              "      <td>0.034580</td>\n",
              "    </tr>\n",
              "    <tr>\n",
              "      <th>housemaid</th>\n",
              "      <td>0.041930</td>\n",
              "      <td>0.015838</td>\n",
              "    </tr>\n",
              "    <tr>\n",
              "      <th>management</th>\n",
              "      <td>0.238036</td>\n",
              "      <td>0.186152</td>\n",
              "    </tr>\n",
              "    <tr>\n",
              "      <th>retired</th>\n",
              "      <td>0.088292</td>\n",
              "      <td>0.019538</td>\n",
              "    </tr>\n",
              "    <tr>\n",
              "      <th>self-employed</th>\n",
              "      <td>0.040536</td>\n",
              "      <td>0.030442</td>\n",
              "    </tr>\n",
              "    <tr>\n",
              "      <th>services</th>\n",
              "      <td>0.069120</td>\n",
              "      <td>0.110068</td>\n",
              "    </tr>\n",
              "    <tr>\n",
              "      <th>student</th>\n",
              "      <td>0.034311</td>\n",
              "      <td>0.009908</td>\n",
              "    </tr>\n",
              "    <tr>\n",
              "      <th>technician</th>\n",
              "      <td>0.173398</td>\n",
              "      <td>0.163749</td>\n",
              "    </tr>\n",
              "    <tr>\n",
              "      <th>unemployed</th>\n",
              "      <td>0.037847</td>\n",
              "      <td>0.021608</td>\n",
              "    </tr>\n",
              "    <tr>\n",
              "      <th>unknown</th>\n",
              "      <td>0.013047</td>\n",
              "      <td>0.001035</td>\n",
              "    </tr>\n",
              "  </tbody>\n",
              "</table>\n",
              "</div>"
            ],
            "text/plain": [
              "housing              no       yes\n",
              "job                              \n",
              "admin.         0.099049  0.126622\n",
              "blue-collar    0.133659  0.280462\n",
              "entrepreneur   0.030775  0.034580\n",
              "housemaid      0.041930  0.015838\n",
              "management     0.238036  0.186152\n",
              "retired        0.088292  0.019538\n",
              "self-employed  0.040536  0.030442\n",
              "services       0.069120  0.110068\n",
              "student        0.034311  0.009908\n",
              "technician     0.173398  0.163749\n",
              "unemployed     0.037847  0.021608\n",
              "unknown        0.013047  0.001035"
            ]
          },
          "execution_count": 51,
          "metadata": {},
          "output_type": "execute_result"
        }
      ],
      "source": [
        "pd.crosstab(df_cat['job'], df_cat['housing'], normalize = 'columns')"
      ]
    },
    {
      "cell_type": "code",
      "execution_count": null,
      "id": "ef22dce7-b024-41ef-9e0a-2988734cc07b",
      "metadata": {
        "id": "ef22dce7-b024-41ef-9e0a-2988734cc07b",
        "outputId": "0d610ce0-9d62-4602-f25b-218d69ba7916"
      },
      "outputs": [
        {
          "data": {
            "text/html": [
              "<div>\n",
              "<style scoped>\n",
              "    .dataframe tbody tr th:only-of-type {\n",
              "        vertical-align: middle;\n",
              "    }\n",
              "\n",
              "    .dataframe tbody tr th {\n",
              "        vertical-align: top;\n",
              "    }\n",
              "\n",
              "    .dataframe thead th {\n",
              "        text-align: right;\n",
              "    }\n",
              "</style>\n",
              "<table border=\"1\" class=\"dataframe\">\n",
              "  <thead>\n",
              "    <tr style=\"text-align: right;\">\n",
              "      <th>marital</th>\n",
              "      <th>divorced</th>\n",
              "      <th>married</th>\n",
              "      <th>single</th>\n",
              "    </tr>\n",
              "    <tr>\n",
              "      <th>job</th>\n",
              "      <th></th>\n",
              "      <th></th>\n",
              "      <th></th>\n",
              "    </tr>\n",
              "  </thead>\n",
              "  <tbody>\n",
              "    <tr>\n",
              "      <th>admin.</th>\n",
              "      <td>0.144037</td>\n",
              "      <td>0.098956</td>\n",
              "      <td>0.135106</td>\n",
              "    </tr>\n",
              "    <tr>\n",
              "      <th>blue-collar</th>\n",
              "      <td>0.144037</td>\n",
              "      <td>0.256045</td>\n",
              "      <td>0.157467</td>\n",
              "    </tr>\n",
              "    <tr>\n",
              "      <th>entrepreneur</th>\n",
              "      <td>0.034377</td>\n",
              "      <td>0.039318</td>\n",
              "      <td>0.018608</td>\n",
              "    </tr>\n",
              "    <tr>\n",
              "      <th>housemaid</th>\n",
              "      <td>0.035337</td>\n",
              "      <td>0.033512</td>\n",
              "      <td>0.011259</td>\n",
              "    </tr>\n",
              "    <tr>\n",
              "      <th>management</th>\n",
              "      <td>0.213367</td>\n",
              "      <td>0.198427</td>\n",
              "      <td>0.230414</td>\n",
              "    </tr>\n",
              "    <tr>\n",
              "      <th>retired</th>\n",
              "      <td>0.081621</td>\n",
              "      <td>0.063607</td>\n",
              "      <td>0.008444</td>\n",
              "    </tr>\n",
              "    <tr>\n",
              "      <th>self-employed</th>\n",
              "      <td>0.026887</td>\n",
              "      <td>0.036489</td>\n",
              "      <td>0.034871</td>\n",
              "    </tr>\n",
              "    <tr>\n",
              "      <th>services</th>\n",
              "      <td>0.105435</td>\n",
              "      <td>0.088447</td>\n",
              "      <td>0.093667</td>\n",
              "    </tr>\n",
              "    <tr>\n",
              "      <th>student</th>\n",
              "      <td>0.001152</td>\n",
              "      <td>0.001984</td>\n",
              "      <td>0.068647</td>\n",
              "    </tr>\n",
              "    <tr>\n",
              "      <th>technician</th>\n",
              "      <td>0.177645</td>\n",
              "      <td>0.148894</td>\n",
              "      <td>0.204848</td>\n",
              "    </tr>\n",
              "    <tr>\n",
              "      <th>unemployed</th>\n",
              "      <td>0.032840</td>\n",
              "      <td>0.026861</td>\n",
              "      <td>0.031353</td>\n",
              "    </tr>\n",
              "    <tr>\n",
              "      <th>unknown</th>\n",
              "      <td>0.003265</td>\n",
              "      <td>0.007459</td>\n",
              "      <td>0.005317</td>\n",
              "    </tr>\n",
              "  </tbody>\n",
              "</table>\n",
              "</div>"
            ],
            "text/plain": [
              "marital        divorced   married    single\n",
              "job                                        \n",
              "admin.         0.144037  0.098956  0.135106\n",
              "blue-collar    0.144037  0.256045  0.157467\n",
              "entrepreneur   0.034377  0.039318  0.018608\n",
              "housemaid      0.035337  0.033512  0.011259\n",
              "management     0.213367  0.198427  0.230414\n",
              "retired        0.081621  0.063607  0.008444\n",
              "self-employed  0.026887  0.036489  0.034871\n",
              "services       0.105435  0.088447  0.093667\n",
              "student        0.001152  0.001984  0.068647\n",
              "technician     0.177645  0.148894  0.204848\n",
              "unemployed     0.032840  0.026861  0.031353\n",
              "unknown        0.003265  0.007459  0.005317"
            ]
          },
          "execution_count": 52,
          "metadata": {},
          "output_type": "execute_result"
        }
      ],
      "source": [
        "pd.crosstab(df_cat['job'], df_cat['marital'], normalize = 'columns')"
      ]
    },
    {
      "cell_type": "code",
      "execution_count": null,
      "id": "7f047a7c-7c97-48cf-b4e0-464fa575d185",
      "metadata": {
        "id": "7f047a7c-7c97-48cf-b4e0-464fa575d185",
        "outputId": "a20b0303-0db6-47ef-e0e7-bd0bb546f56c"
      },
      "outputs": [
        {
          "data": {
            "text/html": [
              "<div>\n",
              "<style scoped>\n",
              "    .dataframe tbody tr th:only-of-type {\n",
              "        vertical-align: middle;\n",
              "    }\n",
              "\n",
              "    .dataframe tbody tr th {\n",
              "        vertical-align: top;\n",
              "    }\n",
              "\n",
              "    .dataframe thead th {\n",
              "        text-align: right;\n",
              "    }\n",
              "</style>\n",
              "<table border=\"1\" class=\"dataframe\">\n",
              "  <thead>\n",
              "    <tr style=\"text-align: right;\">\n",
              "      <th>contact</th>\n",
              "      <th>cellular</th>\n",
              "      <th>telephone</th>\n",
              "      <th>unknown</th>\n",
              "    </tr>\n",
              "    <tr>\n",
              "      <th>housing</th>\n",
              "      <th></th>\n",
              "      <th></th>\n",
              "      <th></th>\n",
              "    </tr>\n",
              "  </thead>\n",
              "  <tbody>\n",
              "    <tr>\n",
              "      <th>no</th>\n",
              "      <td>0.501349</td>\n",
              "      <td>0.597385</td>\n",
              "      <td>0.281336</td>\n",
              "    </tr>\n",
              "    <tr>\n",
              "      <th>yes</th>\n",
              "      <td>0.498651</td>\n",
              "      <td>0.402615</td>\n",
              "      <td>0.718664</td>\n",
              "    </tr>\n",
              "  </tbody>\n",
              "</table>\n",
              "</div>"
            ],
            "text/plain": [
              "contact  cellular  telephone   unknown\n",
              "housing                               \n",
              "no       0.501349   0.597385  0.281336\n",
              "yes      0.498651   0.402615  0.718664"
            ]
          },
          "execution_count": 53,
          "metadata": {},
          "output_type": "execute_result"
        }
      ],
      "source": [
        "pd.crosstab(df_cat['housing'], df_cat['contact'], normalize = 'columns')"
      ]
    },
    {
      "cell_type": "markdown",
      "id": "c751d629-ffd3-4e4e-83ef-da1ccda5932d",
      "metadata": {
        "id": "c751d629-ffd3-4e4e-83ef-da1ccda5932d"
      },
      "source": [
        "> Langkah selanjutnya kita akan melakukan eksplorasi menyeluruh pada categorical features menggunakan countplot.<br> Disini kolom subscribed akan kita drop karena merupakan target feature dan sudah tervisualisasi diawal tadi."
      ]
    },
    {
      "cell_type": "code",
      "execution_count": null,
      "id": "cff7bc81-259f-4836-b27b-8e8bd87911c4",
      "metadata": {
        "id": "cff7bc81-259f-4836-b27b-8e8bd87911c4",
        "outputId": "cd5e6a10-c1bf-4024-f286-8fd8e1b810c0"
      },
      "outputs": [
        {
          "data": {
            "image/png": "[encoded data removed]",
            "text/plain": [
              "<Figure size 864x576 with 1 Axes>"
            ]
          },
          "metadata": {
            "needs_background": "light"
          },
          "output_type": "display_data"
        },
        {
          "data": {
            "image/png": "[encoded data removed]",
            "text/plain": [
              "<Figure size 864x576 with 1 Axes>"
            ]
          },
          "metadata": {
            "needs_background": "light"
          },
          "output_type": "display_data"
        },
        {
          "data": {
            "image/png": "[encoded data removed]",
            "text/plain": [
              "<Figure size 864x576 with 1 Axes>"
            ]
          },
          "metadata": {
            "needs_background": "light"
          },
          "output_type": "display_data"
        },
        {
          "data": {
            "image/png": "[encoded data removed]",
            "text/plain": [
              "<Figure size 864x576 with 1 Axes>"
            ]
          },
          "metadata": {
            "needs_background": "light"
          },
          "output_type": "display_data"
        },
        {
          "data": {
            "image/png": "[encoded data removed]",
            "text/plain": [
              "<Figure size 864x576 with 1 Axes>"
            ]
          },
          "metadata": {
            "needs_background": "light"
          },
          "output_type": "display_data"
        },
        {
          "data": {
            "image/png": "[encoded data removed]",
            "text/plain": [
              "<Figure size 864x576 with 1 Axes>"
            ]
          },
          "metadata": {
            "needs_background": "light"
          },
          "output_type": "display_data"
        },
        {
          "data": {
            "image/png": "[encoded data removed]",
            "text/plain": [
              "<Figure size 864x576 with 1 Axes>"
            ]
          },
          "metadata": {
            "needs_background": "light"
          },
          "output_type": "display_data"
        },
        {
          "data": {
            "image/png": "[encoded data removed]",
            "text/plain": [
              "<Figure size 864x576 with 1 Axes>"
            ]
          },
          "metadata": {
            "needs_background": "light"
          },
          "output_type": "display_data"
        },
        {
          "data": {
            "image/png": "[encoded data removed]",
            "text/plain": [
              "<Figure size 864x576 with 1 Axes>"
            ]
          },
          "metadata": {
            "needs_background": "light"
          },
          "output_type": "display_data"
        }
      ],
      "source": [
        "for i in df_cat.drop(columns = 'subscribed'):\n",
        "    plt.figure(figsize = (12,8))\n",
        "    ax = sns.countplot(x = i, data = df_new, hue = 'subscribed')\n",
        "    plt.xlabel(i, fontsize = 20)\n",
        "    plt.legend(loc='upper right', fontsize = 15)\n",
        "    plt.xticks(rotation = 35)\n",
        "    plt.tight_layout\n",
        "    plt.show()"
      ]
    },
    {
      "cell_type": "markdown",
      "id": "6acfc2ae-5c07-462c-a3ca-5a59b1a4fa26",
      "metadata": {
        "id": "6acfc2ae-5c07-462c-a3ca-5a59b1a4fa26"
      },
      "source": [
        "> Dari plot diatas bisa kita simpulkan, bahwa kebanyakan client yg tidak melakukan deposit ialah client yg :\n",
        "> - Memiliki pekerjaan sebagai blue-collar, management, dan technician\n",
        "> - Status pernikahannya married / sudah menikah\n",
        "> - Level pendidikannya secondary\n",
        "> - Tidak memiliki credit in default\n",
        "> - Memiliki housing loan\n",
        "> - Tidak memiliki personal loan\n",
        "> - Dihubungi melalui cellular\n",
        "> - terakhir kali dihubungi dibulan Mei\n",
        "> - dan hasil marketing campaign sebelumnya (poutcome) itu tidak diketahui"
      ]
    },
    {
      "cell_type": "markdown",
      "id": "dd81dc23-3340-408f-bfc8-bb38f75672c2",
      "metadata": {
        "id": "dd81dc23-3340-408f-bfc8-bb38f75672c2"
      },
      "source": [
        "> Untuk informasi lebih lanjut ada dibawah ini."
      ]
    },
    {
      "cell_type": "code",
      "execution_count": null,
      "id": "4cbcee2b-8b4f-4e0e-99ee-7ef9b6b5b23d",
      "metadata": {
        "tags": [],
        "id": "4cbcee2b-8b4f-4e0e-99ee-7ef9b6b5b23d",
        "outputId": "554a2d74-184a-4142-cab9-5993bfc128d5"
      },
      "outputs": [
        {
          "data": {
            "text/plain": [
              "subscribed  job          \n",
              "no          blue-collar      9024\n",
              "            management       8157\n",
              "            technician       6757\n",
              "            admin.           4540\n",
              "            services         3785\n",
              "            retired          1748\n",
              "            self-employed    1392\n",
              "            entrepreneur     1364\n",
              "            housemaid        1131\n",
              "            unemployed       1101\n",
              "            student           669\n",
              "            unknown           254\n",
              "yes         management       1301\n",
              "            technician        840\n",
              "            blue-collar       708\n",
              "            admin.            631\n",
              "            retired           516\n",
              "            services          369\n",
              "            student           269\n",
              "            unemployed        202\n",
              "            self-employed     187\n",
              "            entrepreneur      123\n",
              "            housemaid         109\n",
              "            unknown            34\n",
              "Name: job, dtype: int64"
            ]
          },
          "execution_count": 55,
          "metadata": {},
          "output_type": "execute_result"
        }
      ],
      "source": [
        "# job\n",
        "\n",
        "df_cat.groupby('subscribed')['job'].value_counts()"
      ]
    },
    {
      "cell_type": "code",
      "execution_count": null,
      "id": "3bbafb1e-5d15-47a0-8221-129d8b4fa559",
      "metadata": {
        "tags": [],
        "id": "3bbafb1e-5d15-47a0-8221-129d8b4fa559",
        "outputId": "24249fa7-1b25-4b71-ae8c-685f0a7daf6f"
      },
      "outputs": [
        {
          "data": {
            "text/plain": [
              "subscribed  marital \n",
              "no          married     24459\n",
              "            single      10878\n",
              "            divorced     4585\n",
              "yes         married      2755\n",
              "            single       1912\n",
              "            divorced      622\n",
              "Name: marital, dtype: int64"
            ]
          },
          "execution_count": 56,
          "metadata": {},
          "output_type": "execute_result"
        }
      ],
      "source": [
        "# marital\n",
        "\n",
        "df_cat.groupby('subscribed')['marital'].value_counts()"
      ]
    },
    {
      "cell_type": "code",
      "execution_count": null,
      "id": "4fdeeb25-f053-482d-b24d-cf7d97937666",
      "metadata": {
        "tags": [],
        "id": "4fdeeb25-f053-482d-b24d-cf7d97937666",
        "outputId": "0af7cc2b-d65a-4734-a92d-f585152e26dd"
      },
      "outputs": [
        {
          "data": {
            "text/plain": [
              "subscribed  education\n",
              "no          secondary    20752\n",
              "            tertiary     11305\n",
              "            primary       6260\n",
              "            unknown       1605\n",
              "yes         secondary     2450\n",
              "            tertiary      1996\n",
              "            primary        591\n",
              "            unknown        252\n",
              "Name: education, dtype: int64"
            ]
          },
          "execution_count": 57,
          "metadata": {},
          "output_type": "execute_result"
        }
      ],
      "source": [
        "# education\n",
        "\n",
        "df_cat.groupby('subscribed')['education'].value_counts()"
      ]
    },
    {
      "cell_type": "code",
      "execution_count": null,
      "id": "283fa41d-7d9a-4a9f-ae15-5df3b00fe179",
      "metadata": {
        "tags": [],
        "id": "283fa41d-7d9a-4a9f-ae15-5df3b00fe179",
        "outputId": "0bbee47f-d72d-4539-c202-e0c6bae1ded7"
      },
      "outputs": [
        {
          "data": {
            "text/plain": [
              "subscribed  default\n",
              "no          no         39159\n",
              "            yes          763\n",
              "yes         no          5237\n",
              "            yes           52\n",
              "Name: default, dtype: int64"
            ]
          },
          "execution_count": 58,
          "metadata": {},
          "output_type": "execute_result"
        }
      ],
      "source": [
        "# default\n",
        "\n",
        "df_cat.groupby('subscribed')['default'].value_counts()"
      ]
    },
    {
      "cell_type": "code",
      "execution_count": null,
      "id": "dbd6bb45-90b4-4b9b-8eb9-b59d75a0e5e1",
      "metadata": {
        "tags": [],
        "id": "dbd6bb45-90b4-4b9b-8eb9-b59d75a0e5e1",
        "outputId": "4df2393e-a9a8-4847-86e3-74921a4ee1ed"
      },
      "outputs": [
        {
          "data": {
            "text/plain": [
              "subscribed  housing\n",
              "no          yes        23195\n",
              "            no         16727\n",
              "yes         no          3354\n",
              "            yes         1935\n",
              "Name: housing, dtype: int64"
            ]
          },
          "execution_count": 59,
          "metadata": {},
          "output_type": "execute_result"
        }
      ],
      "source": [
        "# housing\n",
        "\n",
        "df_cat.groupby('subscribed')['housing'].value_counts()"
      ]
    },
    {
      "cell_type": "code",
      "execution_count": null,
      "id": "456dbb32-14d3-47fc-a775-cfee743286bf",
      "metadata": {
        "tags": [],
        "id": "456dbb32-14d3-47fc-a775-cfee743286bf",
        "outputId": "560727af-eb50-419f-bcf0-3c37a023de3d"
      },
      "outputs": [
        {
          "data": {
            "text/plain": [
              "subscribed  loan\n",
              "no          no      33162\n",
              "            yes      6760\n",
              "yes         no       4805\n",
              "            yes       484\n",
              "Name: loan, dtype: int64"
            ]
          },
          "execution_count": 60,
          "metadata": {},
          "output_type": "execute_result"
        }
      ],
      "source": [
        "# loan\n",
        "\n",
        "df_cat.groupby('subscribed')['loan'].value_counts()"
      ]
    },
    {
      "cell_type": "code",
      "execution_count": null,
      "id": "56530749-46ec-489c-b85f-2e9afe7611e8",
      "metadata": {
        "tags": [],
        "id": "56530749-46ec-489c-b85f-2e9afe7611e8",
        "outputId": "ba55c7b0-c697-45a2-fb0d-cec6b2ea8c0d"
      },
      "outputs": [
        {
          "data": {
            "text/plain": [
              "subscribed  contact  \n",
              "no          cellular     24916\n",
              "            unknown      12490\n",
              "            telephone     2516\n",
              "yes         cellular      4369\n",
              "            unknown        530\n",
              "            telephone      390\n",
              "Name: contact, dtype: int64"
            ]
          },
          "execution_count": 61,
          "metadata": {},
          "output_type": "execute_result"
        }
      ],
      "source": [
        "# contact\n",
        "\n",
        "df_cat.groupby('subscribed')['contact'].value_counts()"
      ]
    },
    {
      "cell_type": "code",
      "execution_count": null,
      "id": "0902438c-387d-43cd-8ca4-2aa200298cf7",
      "metadata": {
        "tags": [],
        "id": "0902438c-387d-43cd-8ca4-2aa200298cf7",
        "outputId": "191cf62f-97fa-4d01-d3a8-6865ae65c875"
      },
      "outputs": [
        {
          "data": {
            "text/plain": [
              "subscribed  month\n",
              "no          may      12841\n",
              "            jul       6268\n",
              "            aug       5559\n",
              "            jun       4795\n",
              "            nov       3567\n",
              "            apr       2355\n",
              "            feb       2208\n",
              "            jan       1261\n",
              "            oct        415\n",
              "            sep        310\n",
              "            mar        229\n",
              "            dec        114\n",
              "yes         may        925\n",
              "            aug        688\n",
              "            jul        627\n",
              "            apr        577\n",
              "            jun        546\n",
              "            feb        441\n",
              "            nov        403\n",
              "            oct        323\n",
              "            sep        269\n",
              "            mar        248\n",
              "            jan        142\n",
              "            dec        100\n",
              "Name: month, dtype: int64"
            ]
          },
          "execution_count": 62,
          "metadata": {},
          "output_type": "execute_result"
        }
      ],
      "source": [
        "# month\n",
        "\n",
        "df_cat.groupby('subscribed')['month'].value_counts()"
      ]
    },
    {
      "cell_type": "markdown",
      "id": "94fdafa5-951e-498a-9553-8a58f9cd80ca",
      "metadata": {
        "id": "94fdafa5-951e-498a-9553-8a58f9cd80ca"
      },
      "source": [
        "## SUMMARY"
      ]
    },
    {
      "cell_type": "markdown",
      "id": "a6803ae3-4347-4fd3-a0b2-b6135f6b25b3",
      "metadata": {
        "id": "a6803ae3-4347-4fd3-a0b2-b6135f6b25b3"
      },
      "source": [
        "> Melalui eksplorasi data yg telah kita lakukan, selanjutnya kita dapat menarik kesimpulan bahwa <br>\n",
        "client yg tidak melakukan deposit ialah client yg :\n",
        "\n",
        "> Berdasarkan Numerical Features :\n",
        "> - Berada pada rentang umur 31 - 35 tahun.\n",
        "> - Kebanyakan memiliki balance < 9 euros\n",
        "> - Dikontak < 125 detik\n",
        "> - dan kebanyakan belum dikontak sama sekali.\n",
        "\n",
        "> Berdasarkan Categorical Features :\n",
        "> - Memiliki pekerjaan sebagai blue-collar, management, dan technician\n",
        "> - Status pernikahannya married / sudah menikah\n",
        "> - Level pendidikannya secondary\n",
        "> - Tidak memiliki credit in default\n",
        "> - Memiliki housing loan\n",
        "> - Tidak memiliki personal loan\n",
        "> - Dihubungi melalui cellular\n",
        "> - Terakhir kali dihubungi dibulan Mei\n",
        "> - dan hasil marketing campaign sebelumnya (poutcome) itu tidak diketahui"
      ]
    },
    {
      "cell_type": "markdown",
      "id": "2a44bbde-4272-4149-b36b-b25000b9e49e",
      "metadata": {
        "id": "2a44bbde-4272-4149-b36b-b25000b9e49e"
      },
      "source": [
        "> Untuk data yang sudah saya bersihkan akan saya letak dibawah"
      ]
    },
    {
      "cell_type": "code",
      "execution_count": null,
      "id": "02cba047-ad6a-4b30-a8c1-5ada1d2e1beb",
      "metadata": {
        "id": "02cba047-ad6a-4b30-a8c1-5ada1d2e1beb"
      },
      "outputs": [],
      "source": [
        "df_clean = pd.concat([df_con, df_cat], axis = 1)"
      ]
    },
    {
      "cell_type": "code",
      "execution_count": null,
      "id": "5a276e7a-bf11-4ee1-917b-7731161e3ef5",
      "metadata": {
        "id": "5a276e7a-bf11-4ee1-917b-7731161e3ef5",
        "outputId": "acabc18a-a80c-482f-a647-aaa019884874"
      },
      "outputs": [
        {
          "data": {
            "text/html": [
              "<div>\n",
              "<style scoped>\n",
              "    .dataframe tbody tr th:only-of-type {\n",
              "        vertical-align: middle;\n",
              "    }\n",
              "\n",
              "    .dataframe tbody tr th {\n",
              "        vertical-align: top;\n",
              "    }\n",
              "\n",
              "    .dataframe thead th {\n",
              "        text-align: right;\n",
              "    }\n",
              "</style>\n",
              "<table border=\"1\" class=\"dataframe\">\n",
              "  <thead>\n",
              "    <tr style=\"text-align: right;\">\n",
              "      <th></th>\n",
              "      <th>age</th>\n",
              "      <th>balance</th>\n",
              "      <th>day</th>\n",
              "      <th>duration</th>\n",
              "      <th>campaign</th>\n",
              "      <th>pdays</th>\n",
              "      <th>previous</th>\n",
              "      <th>job</th>\n",
              "      <th>marital</th>\n",
              "      <th>education</th>\n",
              "      <th>default</th>\n",
              "      <th>housing</th>\n",
              "      <th>loan</th>\n",
              "      <th>contact</th>\n",
              "      <th>month</th>\n",
              "      <th>poutcome</th>\n",
              "      <th>subscribed</th>\n",
              "    </tr>\n",
              "  </thead>\n",
              "  <tbody>\n",
              "    <tr>\n",
              "      <th>0</th>\n",
              "      <td>58</td>\n",
              "      <td>2143</td>\n",
              "      <td>5</td>\n",
              "      <td>261</td>\n",
              "      <td>1</td>\n",
              "      <td>-1</td>\n",
              "      <td>0</td>\n",
              "      <td>management</td>\n",
              "      <td>married</td>\n",
              "      <td>tertiary</td>\n",
              "      <td>no</td>\n",
              "      <td>yes</td>\n",
              "      <td>no</td>\n",
              "      <td>unknown</td>\n",
              "      <td>may</td>\n",
              "      <td>unknown</td>\n",
              "      <td>no</td>\n",
              "    </tr>\n",
              "    <tr>\n",
              "      <th>1</th>\n",
              "      <td>44</td>\n",
              "      <td>29</td>\n",
              "      <td>5</td>\n",
              "      <td>151</td>\n",
              "      <td>1</td>\n",
              "      <td>-1</td>\n",
              "      <td>0</td>\n",
              "      <td>technician</td>\n",
              "      <td>single</td>\n",
              "      <td>secondary</td>\n",
              "      <td>no</td>\n",
              "      <td>yes</td>\n",
              "      <td>no</td>\n",
              "      <td>unknown</td>\n",
              "      <td>may</td>\n",
              "      <td>unknown</td>\n",
              "      <td>no</td>\n",
              "    </tr>\n",
              "    <tr>\n",
              "      <th>2</th>\n",
              "      <td>33</td>\n",
              "      <td>2</td>\n",
              "      <td>5</td>\n",
              "      <td>76</td>\n",
              "      <td>1</td>\n",
              "      <td>-1</td>\n",
              "      <td>0</td>\n",
              "      <td>entrepreneur</td>\n",
              "      <td>married</td>\n",
              "      <td>secondary</td>\n",
              "      <td>no</td>\n",
              "      <td>yes</td>\n",
              "      <td>yes</td>\n",
              "      <td>unknown</td>\n",
              "      <td>may</td>\n",
              "      <td>unknown</td>\n",
              "      <td>no</td>\n",
              "    </tr>\n",
              "    <tr>\n",
              "      <th>3</th>\n",
              "      <td>47</td>\n",
              "      <td>1506</td>\n",
              "      <td>5</td>\n",
              "      <td>92</td>\n",
              "      <td>1</td>\n",
              "      <td>-1</td>\n",
              "      <td>0</td>\n",
              "      <td>blue-collar</td>\n",
              "      <td>married</td>\n",
              "      <td>unknown</td>\n",
              "      <td>no</td>\n",
              "      <td>yes</td>\n",
              "      <td>no</td>\n",
              "      <td>unknown</td>\n",
              "      <td>may</td>\n",
              "      <td>unknown</td>\n",
              "      <td>no</td>\n",
              "    </tr>\n",
              "    <tr>\n",
              "      <th>4</th>\n",
              "      <td>33</td>\n",
              "      <td>1</td>\n",
              "      <td>5</td>\n",
              "      <td>198</td>\n",
              "      <td>1</td>\n",
              "      <td>-1</td>\n",
              "      <td>0</td>\n",
              "      <td>unknown</td>\n",
              "      <td>single</td>\n",
              "      <td>unknown</td>\n",
              "      <td>no</td>\n",
              "      <td>no</td>\n",
              "      <td>no</td>\n",
              "      <td>unknown</td>\n",
              "      <td>may</td>\n",
              "      <td>unknown</td>\n",
              "      <td>no</td>\n",
              "    </tr>\n",
              "  </tbody>\n",
              "</table>\n",
              "</div>"
            ],
            "text/plain": [
              "   age  balance  day  duration  campaign  pdays  previous           job  \\\n",
              "0   58     2143    5       261         1     -1         0    management   \n",
              "1   44       29    5       151         1     -1         0    technician   \n",
              "2   33        2    5        76         1     -1         0  entrepreneur   \n",
              "3   47     1506    5        92         1     -1         0   blue-collar   \n",
              "4   33        1    5       198         1     -1         0       unknown   \n",
              "\n",
              "   marital  education default housing loan  contact month poutcome subscribed  \n",
              "0  married   tertiary      no     yes   no  unknown   may  unknown         no  \n",
              "1   single  secondary      no     yes   no  unknown   may  unknown         no  \n",
              "2  married  secondary      no     yes  yes  unknown   may  unknown         no  \n",
              "3  married    unknown      no     yes   no  unknown   may  unknown         no  \n",
              "4   single    unknown      no      no   no  unknown   may  unknown         no  "
            ]
          },
          "execution_count": 65,
          "metadata": {},
          "output_type": "execute_result"
        }
      ],
      "source": [
        "df_clean.head()"
      ]
    },
    {
      "cell_type": "code",
      "execution_count": null,
      "id": "d9d18d92-e9e6-480e-a011-25ef5d37c2de",
      "metadata": {
        "id": "d9d18d92-e9e6-480e-a011-25ef5d37c2de"
      },
      "outputs": [],
      "source": [
        "df_clean.to_csv(\"Bank_clean.csv\", index = False)"
      ]
    }
  ],
  "metadata": {
    "kernelspec": {
      "display_name": "Python 3 (ipykernel)",
      "language": "python",
      "name": "python3"
    },
    "language_info": {
      "codemirror_mode": {
        "name": "ipython",
        "version": 3
      },
      "file_extension": ".py",
      "mimetype": "text/x-python",
      "name": "python",
      "nbconvert_exporter": "python",
      "pygments_lexer": "ipython3",
      "version": "3.9.12"
    },
    "colab": {
      "provenance": [],
      "include_colab_link": true
    }
  },
  "nbformat": 4,
  "nbformat_minor": 5
}